{
  "cells": [
    {
      "cell_type": "markdown",
      "metadata": {
        "id": "view-in-github",
        "colab_type": "text"
      },
      "source": [
        "<a href=\"https://colab.research.google.com/github/CeliaMi/Machine_Learning/blob/main/ML_S6_NLP_practice_Text_vectorization_v1_0.ipynb\" target=\"_parent\"><img src=\"https://colab.research.google.com/assets/colab-badge.svg\" alt=\"Open In Colab\"/></a>"
      ]
    },
    {
      "cell_type": "markdown",
      "id": "76130360-f9c3-4ddf-b5d8-776c53e1744b",
      "metadata": {
        "id": "76130360-f9c3-4ddf-b5d8-776c53e1744b"
      },
      "source": [
        "<center><img src=\"img/aism_logo.png\" alt=\"Logo AI Saturdays Madrid\" title=\"Logo AI Saturdays Madrid\" width=\"150\"/></center>\n",
        "\n",
        "# Vectorización _(text representation)_\n",
        "\n",
        "La gran mayoría de algoritmos de aprendizaje automático no pueden trabajar con el texto en bruto. Necesitamos extraer una serie de características de este texto de modo que lo que pasemos al algoritmo sean atributos numéricos, es decir, para que un texto pueda ser procesado por una máquina usando métodos de aprendizaje automático primero debe convertirse en números. Este es el propósito de la representación del texto o _**vectorización**_.\n",
        "\n",
        "Esto se debe a que las computadoras no entienden el texto en sí ni las relaciones entre palabras y oraciones, por lo que necesitamos una forma de representar estas palabras con números que es lo que las computadoras sí que entienden.\n",
        "\n",
        "El lenguaje es información no estructurada que ha sido creada por personas para ser entendida por otras personas. Por el contrario, los datos estructurados o semiestructurados incluyen campos o etiquetas de marcado que permiten que una computadora pueda analizarlos fácilmente.\n",
        "\n",
        "Sin embargo, aunque no presentan una estructura fácil de leer por una máquina, los datos no estructurados no son aleatorios, es decir, el lenguaje se rige por una serie de propiedades lingüísticas que lo hacen comprensible para las personas.\n",
        "\n",
        "Como ya hemos comentado, mientras el lenguaje se formula como texto o cadenas los modelos de aprendizaje automático operan en el espacio de los números reales. La vectorización del texto consiste en convertirlo en una serie de vectores de números que la máquina pueda entender.\n",
        "\n",
        "Generalmente, se usa el término vectorización para referirse a un conjunto de técnicas de aprendizaje de características y modelado del lenguaje en el procesamiento del lenguaje natural (PNL) donde las palabras o frases del vocabulario se asignan a vectores de números reales.\n",
        "\n",
        "Según cómo queramos procesar el texto podemos mantener cada observación como un documento o dividirlo en tokens más pequeños. La granularidad de los tokens queda a nuestra discreción pudiéndose crear los tokens a nivel de documento, frase, palabra o incluso carácter.\n",
        "\n",
        "Cuando hablamos de _**documento**_ nos referimos a una entidad de texto ininterrumpida que es de interés para el problema. Por ejemplo, en un sistema de clasificación de _spam_ consideraríamos cada mensaje como un documento.\n",
        "\n",
        "Una vez vectorizado el texto podremos extraer atributos o características del mismo _(feature extraction)_ y procesarlo usando los algoritmos de aprendizaje automático.\n",
        "\n",
        "Para guardar las matrices vectorizadas usaremos Numpy arrays o matrices dispersas, nunca DataFrames que son mucho más lentos a la hora de hacer cálculos.\n",
        "\n",
        "Para modelar los datos del lenguaje el tamaño de entrada en todas las observaciones presentes y futuras debe ser el mismo. Si dividimos nuestro texto en tokens, encontraremos un problema en el que un texto más largo contiene más tokens que otros. La solución es truncar el texto más largo o rellenar los datos de entrada de los más cortos según un tamaño de entrada que hayamos designado.\n",
        "\n",
        "Como veremos, en el modelo de espacio vectorial con el que vamos a trabajar cada token es un eje o dimensión, representándose cada texto o documento como un vector en ese espacio multidimensional. El número de palabras únicas será el número de dimensiones.\n",
        "\n",
        "Hay diferentes técnicas de vectorización:\n",
        "\n",
        "* _Bag of words_\n",
        "* _Term Frequency/Inverse Document Frequency_\n",
        "* _One Hot Encoding_\n",
        "* _HashingVectorizer_\n",
        "* _Word embeddings_\n",
        "* _Contextualized Word Embeddings_\n",
        "\n",
        "Vamos a ver aquí las 3 primeras."
      ]
    },
    {
      "cell_type": "markdown",
      "id": "8734ac2b-73b3-4d97-a2f4-62dbcfe4e018",
      "metadata": {
        "id": "8734ac2b-73b3-4d97-a2f4-62dbcfe4e018"
      },
      "source": [
        "## Bolsa de palabras _(Bag of words - BoW)_\n",
        "\n",
        "_**Bag of words**_ es una técnica para analizar las características o atributos de un documento. Los atributos del texto son las palabras únicas que aparecen en el corpus y el número de ocurrencias de cada una de estas palabras en cada documento.\n",
        "\n",
        "BoW es una técnica de extracción de características en la que el resultado es un espacio vectorial que representa cada documento en el corpus. Es la forma más sencilla de representar los textos como vectores de números.\n",
        "\n",
        "La longitud de este vector (dimensiones) corresponde al número de palabras únicas en el corpus (sin repetición, cada palabra aparece solo una vez).\n",
        "\n",
        "Hay diferentes tipos de BOW donde cada uno extiende o modifica el modelo base. En el modelo base lo que se hace es contar cuántas veces aparece un token en cada texto, es decir, usamos las palabras tokenizadas para cada observación o documento y calculamos la frecuencia de cada token.\n",
        "\n",
        "<center><img src=\"img/bow_1.png\" alt=\"Bag of Words\" title=\"Bag of Words\" width=\"700\" /></center>\n",
        "\n",
        "Fuente: [\"Applied Text Analysis with Python\"](https://www.oreilly.com/library/view/applied-text-analysis/9781491963036/) por Benjamin Bengfort, Rebecca Bilbro, y Tony Ojeda\n",
        "\n",
        "Tomemos como ejemplo el siguiente corpus formado por dos documentos:\n",
        "```\n",
        "doc1 = \"Alicia adora la pasta\"\n",
        "doc2 = \"Alicia adora la verdura. Alicia y Luis son amigos\"\n",
        "```\n",
        "\n",
        "Como podemos ver, tenemos 9 palabras únicas en nuestro corpus (por simplificar hemos ignorado los signos de puntuación). Por lo tanto, nuestro vector tendrá un tamaño de 9.\n",
        "\n",
        "<center><img src=\"img/bow_2.png\" alt=\"Bag of Words\" title=\"Bag of Words\" width=\"700\" /></center>\n",
        "\n",
        "Estos vectores ayudan a comparar documentos, ya que realiza un seguimiento de todas las palabras que aparecen en los documentos, y su forma sencilla de procesarlas con solo contarlas es fácilmente comprensible y nos da una imagen clara de las palabras más importantes en general.\n",
        "\n",
        "Una forma de reducir la pérdida de contexto con BoW es crear vocabularios de palabras agrupadas en lugar de palabras individuales. Estas palabras agrupadas se denominan _**n-gramas**_, donde $n$ es el tamaño de la agrupación. El enfoque resultante se llama _**bag of n-grams (BNG)**_ o _**co-occurrence vectorizer**_.\n",
        "\n",
        "La ventaja de BNG es que cada n-grama captura más contexto que las palabras individuales. Sin embargo hay que tener en cuenta que el coste de encontrar los n-gramas crece polinomialmente a medida que aumenta el tamaño del vocabulario, por lo que generalmente nos limitaremos a n-gramas de 2 (bigramas) o 3 (trigramas).\n",
        "\n",
        "Si bien la técnica de BoW es útil en algunos casos de uso, tiene algunas limitaciones:\n",
        "* No mantiene la estructura del documento y descarta la gramática (no mantiene el orden de las palabras, sino que solo las cuenta).\n",
        "* Tiene el problema de la dispersión, es decir, la mayoría de los valores en el vector son ceros lo que aumenta la complejidad y añade sesgo al modelo. Al contar todas las apariciones a lo largo de los documentos, podemos terminar fácilmente con una matriz compuesta por vectores llenos de ceros ya que, por supuesto, cada documento solo contendrá una pequeña cantidad de todas las palabras posibles.\n",
        "* Las palabras vacías (como `y`, `la`, etc.) aparecen muchas veces más que las otras palabras enmascarando las palabras más significativas. Esto añade ruido al análisis y hacen que las palabras más importante no tengan el peso adecuado.\n",
        "* Puede ocurrir que tengamos un documento en el que una palabra específica aparece tantas veces que termine pareciendo que es la palabra más común en todos los documentos, cuando lo que ocurre realmente es que aparece muchas veces en un solo documento.\n",
        "* BoW genera una matriz de tamaño fijo con todas las palabras (o las de ciertas frecuencias) que aparecen en nuestros documentos actuales. Esto podría ser un problema si recibimos más documentos en el futuro y no sabemos las palabras que podríamos encontrar.\n",
        "\n",
        "Resumiendo, podemos decir que un BoW en su forma más simple no es más que un documento representado como un vector del conteo de palabras. A esto también se le denomina _frecuency vectors_ o _count vectors_.\n",
        "\n",
        "Podemos usar para crear la BoW la clase `CountVectorizer` de la librería Scikit-learn o la clase `Counter` de NLTK.\n",
        "\n",
        "Previo a la utilización del modelo BoW será necesario preprocesar el texto (convertir a minúsculas, eliminar puntuación, eliminar stopwords, lematizar, etc.), siempre dependiendo de nuestro problema.\n",
        "\n",
        "Más información del modelo Bag of Words en la [Wikipedia](https://en.wikipedia.org/wiki/Bag-of-words_model).\n",
        "\n",
        "### BoW usando Python\n",
        "\n",
        "Vamos a ver un ejemplo sencillo de BoW usando solo Python, es decir, sin recurrir a ninguna librería especializada.\n",
        "\n",
        "Lo primero que hacemos es **crear un corpus** formado en este caso por dos documentos, por simplicidad no usamos signos de puntuación."
      ]
    },
    {
      "cell_type": "code",
      "execution_count": null,
      "id": "a22d4945-e18f-4394-a94e-208263d5efb8",
      "metadata": {
        "colab": {
          "base_uri": "https://localhost:8080/"
        },
        "id": "a22d4945-e18f-4394-a94e-208263d5efb8",
        "outputId": "8a5187e0-1f36-4cf1-f9dc-7ccb40b7bd33"
      },
      "outputs": [
        {
          "output_type": "stream",
          "name": "stdout",
          "text": [
            "Overwriting /content/drive/MyDrive/data_saturdays/doc_1.txt\n"
          ]
        }
      ],
      "source": [
        "%%writefile /content/drive/MyDrive/data_saturdays/doc_1.txt\n",
        "Esto es una historia sobre gatos\n",
        "nuestras mascotas felinas\n",
        "Los gatos son animales peludos"
      ]
    },
    {
      "cell_type": "code",
      "source": [
        "from google.colab import drive\n",
        "drive.mount('/content/drive')"
      ],
      "metadata": {
        "colab": {
          "base_uri": "https://localhost:8080/"
        },
        "id": "IvBlSksAPvMW",
        "outputId": "01e1fa43-f4f4-471a-a0f3-a3031e2cf0ed"
      },
      "id": "IvBlSksAPvMW",
      "execution_count": null,
      "outputs": [
        {
          "output_type": "stream",
          "name": "stdout",
          "text": [
            "Mounted at /content/drive\n"
          ]
        }
      ]
    },
    {
      "cell_type": "code",
      "execution_count": null,
      "id": "0c0ab334-d121-46df-9ed5-e1ffe930a6c5",
      "metadata": {
        "colab": {
          "base_uri": "https://localhost:8080/"
        },
        "id": "0c0ab334-d121-46df-9ed5-e1ffe930a6c5",
        "outputId": "f415ef86-6df5-4760-d310-b74da5b87dba"
      },
      "outputs": [
        {
          "output_type": "stream",
          "name": "stdout",
          "text": [
            "Overwriting /content/drive/MyDrive/data_saturdays/doc_2.txt\n"
          ]
        }
      ],
      "source": [
        "%%writefile /content/drive/MyDrive/data_saturdays/doc_2.txt\n",
        "Esta es una historia sobre surf\n",
        "Coger olas es divertido\n",
        "Surfear es un deporte de agua popular"
      ]
    },
    {
      "cell_type": "markdown",
      "id": "efc6ab2e-233d-410b-b506-a8baec894a6e",
      "metadata": {
        "id": "efc6ab2e-233d-410b-b506-a8baec894a6e"
      },
      "source": [
        "El siguiente paso es **construir el vocabulario**. El objetivo es crear un diccionario con todas las palabras que aparecen en cada documento dando a cada una de ellas un identificador único, en este caso un número. Más adelante crearemos instancias (vectores) para cada documento individual."
      ]
    },
    {
      "cell_type": "code",
      "execution_count": null,
      "id": "246fa941-f2b9-49fb-84b8-836b79b0b04e",
      "metadata": {
        "colab": {
          "base_uri": "https://localhost:8080/"
        },
        "id": "246fa941-f2b9-49fb-84b8-836b79b0b04e",
        "outputId": "46599d70-0225-4192-ab73-01bb53901268"
      },
      "outputs": [
        {
          "output_type": "stream",
          "name": "stdout",
          "text": [
            "{'esto': 1, 'es': 2, 'una': 3, 'historia': 4, 'sobre': 5, 'gatos': 6, 'nuestras': 7, 'mascotas': 8, 'felinas': 9, 'los': 10, 'son': 11, 'animales': 12, 'peludos': 13}\n"
          ]
        }
      ],
      "source": [
        "vocab = {}\n",
        "i = 1\n",
        "\n",
        "with open('/content/drive/MyDrive/data_saturdays/doc_1.txt') as f:\n",
        "    x = f.read().lower().split()  # Ponemos el texto en minúsculas y tokenizamos\n",
        "\n",
        "for word in x:\n",
        "    if word in vocab:\n",
        "        continue\n",
        "    else:\n",
        "        vocab[word] = i\n",
        "        i += 1\n",
        "\n",
        "print(vocab)"
      ]
    },
    {
      "cell_type": "code",
      "execution_count": null,
      "id": "4b77dfb5-174b-40ba-b0bc-ce7ce1b56940",
      "metadata": {
        "colab": {
          "base_uri": "https://localhost:8080/"
        },
        "id": "4b77dfb5-174b-40ba-b0bc-ce7ce1b56940",
        "outputId": "0a449009-d1f5-4190-9c83-b974f7beb7f7"
      },
      "outputs": [
        {
          "output_type": "stream",
          "name": "stdout",
          "text": [
            "{'esto': 1, 'es': 2, 'una': 3, 'historia': 4, 'sobre': 5, 'gatos': 6, 'nuestras': 7, 'mascotas': 8, 'felinas': 9, 'los': 10, 'son': 11, 'animales': 12, 'peludos': 13, 'esta': 14, 'surf': 15, 'coger': 16, 'olas': 17, 'divertido': 18, 'surfear': 19, 'un': 20, 'deporte': 21, 'de': 22, 'agua': 23, 'popular': 24}\n"
          ]
        }
      ],
      "source": [
        "with open('/content/drive/MyDrive/data_saturdays/doc_2.txt') as f:\n",
        "    x = f.read().lower().split()\n",
        "\n",
        "for word in x:\n",
        "    if word in vocab:\n",
        "        continue\n",
        "    else:\n",
        "        vocab[word] = i\n",
        "        i += 1\n",
        "\n",
        "print(vocab)"
      ]
    },
    {
      "cell_type": "markdown",
      "id": "9ae903a3-3230-49f7-b992-dadb9a497373",
      "metadata": {
        "id": "9ae903a3-3230-49f7-b992-dadb9a497373"
      },
      "source": [
        "Aunque `doc_2.txt` tiene 17 palabras, solo se añaden las que no estaban ya.\n",
        "\n",
        "Ahora que hemos encapsulado \"todo nuestro lenguaje\" en un diccionario, vamos a **extraer ciertas características** de cada uno de los documentos originales."
      ]
    },
    {
      "cell_type": "code",
      "execution_count": null,
      "id": "230dc13d-5b46-4416-8ab1-ebccdd983538",
      "metadata": {
        "colab": {
          "base_uri": "https://localhost:8080/"
        },
        "id": "230dc13d-5b46-4416-8ab1-ebccdd983538",
        "outputId": "70b214f1-1639-4dc7-d39e-892ebccc0b00"
      },
      "outputs": [
        {
          "output_type": "stream",
          "name": "stdout",
          "text": [
            "['/content/drive/MyDrive/data_saturdays/doc_1.txt', 0, 0, 0, 0, 0, 0, 0, 0, 0, 0, 0, 0, 0, 0, 0, 0, 0, 0, 0, 0, 0, 0, 0, 0]\n"
          ]
        }
      ],
      "source": [
        "# Creamos un vector vacío con espacio para cada palabra en el vocabulario\n",
        "doc_1 ='/content/drive/MyDrive/data_saturdays/doc_1.txt'\n",
        "doc_2 ='/content/drive/MyDrive/data_saturdays/doc_2.txt'\n",
        "one = [doc_1] + [0] * len(vocab)\n",
        "print(one)"
      ]
    },
    {
      "cell_type": "code",
      "execution_count": null,
      "id": "537bc395-3bff-4c99-8164-0bc1ca379113",
      "metadata": {
        "colab": {
          "base_uri": "https://localhost:8080/"
        },
        "id": "537bc395-3bff-4c99-8164-0bc1ca379113",
        "outputId": "a49cc997-b4dc-4a0d-cbfb-f47b1e85ff34"
      },
      "outputs": [
        {
          "output_type": "stream",
          "name": "stdout",
          "text": [
            "['/content/drive/MyDrive/data_saturdays/doc_1.txt', 1, 1, 1, 1, 1, 2, 1, 1, 1, 1, 1, 1, 1, 0, 0, 0, 0, 0, 0, 0, 0, 0, 0, 0]\n"
          ]
        }
      ],
      "source": [
        "# Mapeamos las frecuencias de cada palabra en doc_1.txt a nuestro vector\n",
        "with open(doc_1) as f:\n",
        "    x = f.read().lower().split()\n",
        "\n",
        "for word in x:\n",
        "    one[vocab[word]] += 1\n",
        "\n",
        "print(one)"
      ]
    },
    {
      "cell_type": "markdown",
      "id": "3c816c91-08fc-4f46-87a2-5fe546fe16d6",
      "metadata": {
        "id": "3c816c91-08fc-4f46-87a2-5fe546fe16d6"
      },
      "source": [
        "La mayoría de las palabras en `doc_1.txt` solo aparecen una vez, pero `gatos` aparece dos veces."
      ]
    },
    {
      "cell_type": "code",
      "execution_count": null,
      "id": "b6ec26a6-0438-458b-8233-58160dfae9c0",
      "metadata": {
        "id": "b6ec26a6-0438-458b-8233-58160dfae9c0"
      },
      "outputs": [],
      "source": [
        "# Hacemos lo mismo con el segundo documento\n",
        "two = [doc_2] + [0] * len(vocab)\n",
        "\n",
        "with open(doc_2) as f:\n",
        "    x = f.read().lower().split()\n",
        "\n",
        "for word in x:\n",
        "    two[vocab[word]] += 1"
      ]
    },
    {
      "cell_type": "code",
      "execution_count": null,
      "id": "fa18c59b-af15-4769-836b-a768a235e51e",
      "metadata": {
        "colab": {
          "base_uri": "https://localhost:8080/"
        },
        "id": "fa18c59b-af15-4769-836b-a768a235e51e",
        "outputId": "94c87bf0-e85c-4316-ea66-199de82180dc"
      },
      "outputs": [
        {
          "output_type": "stream",
          "name": "stdout",
          "text": [
            "['/content/drive/MyDrive/data_saturdays/doc_1.txt', 1, 1, 1, 1, 1, 2, 1, 1, 1, 1, 1, 1, 1, 0, 0, 0, 0, 0, 0, 0, 0, 0, 0, 0]\n",
            "['/content/drive/MyDrive/data_saturdays/doc_2.txt', 0, 3, 1, 1, 1, 0, 0, 0, 0, 0, 0, 0, 0, 1, 1, 1, 1, 1, 1, 1, 1, 1, 1, 1]\n"
          ]
        }
      ],
      "source": [
        "# Comparamos ambos vectores\n",
        "print(f'{one}\\n{two}')"
      ]
    },
    {
      "cell_type": "markdown",
      "id": "deaafbbc-13dd-464b-b5de-a8f843dff5c0",
      "metadata": {
        "id": "deaafbbc-13dd-464b-b5de-a8f843dff5c0"
      },
      "source": [
        "Comparando ambos vectores podemos ver que algunas palabras son comunes a los dos, algunas aparecen solo en `doc_1.txt`, y otras solo en `doc_2.txt`. Ampliar esta lógica a cientos de miles de documentos hará que el vocabulario crezca con cientos de miles de palabras.\n",
        "\n",
        "Estos vectores contienen en su mayoría ceros, lo que los convierte en **_matrices dispersas_** o _sparse matrix_.\n",
        "\n",
        "Algunas palabras vacías como `de` e `y` que aparecen de manera tan frecuente y en tantos documentos no necesitamos molestarnos en contarlas por lo que conviene eliminarlas antes de hacer el conteo, pero como siempre esto dependerá del problema al que nos enfrentemos.\n",
        "\n",
        "Además, puede que solo sea necesario quedarse con la raíz de la palabra, como por ejemplo `gato` en lugar tanto de `gato`, como de `gata`, `gatos` y `gatas`. Esto también hará que el vector de nuestro vocabulario sea más pequeño y mejore el rendimiento, pero esto dependerá del problema en el que estemos trabajando.\n",
        "\n",
        "Al crear nuestros vectores lo primero que hemos hecho ha sido dividir los textos usando los espacios en blanco con `split()`. Esto es una forma muy básica de tokenización en la que hemos dividido en texto en palabras.\n",
        "\n",
        "Además, tampoco nos hemos preocupado por la puntuación y las diferentes categorías gramaticales. En las aplicaciones reales nos basaremos en una morfología bastante más sofisticada para analizar el texto de manera adecuada.\n",
        "\n",
        "Así, una vez que se ha dividido el texto podemos etiquetar nuestros tokens con información sobre su categoría gramatical, las dependencias gramaticales, etc. Esto añade más dimensiones a nuestros datos y nos permite una comprensión más profunda del contexto de documentos específicos."
      ]
    },
    {
      "cell_type": "markdown",
      "id": "8fc28fba-b122-4599-84e7-b35170cab2dc",
      "metadata": {
        "tags": [],
        "id": "8fc28fba-b122-4599-84e7-b35170cab2dc"
      },
      "source": [
        "### BoW usando `CountVectorizer` de Scikit-learn\n",
        "\n",
        "El preprocesamiento de los textos, la tokenización y la habilidad de filtrar las palabras vacías está todo incluido en la clase [`CountVectorizer`](https://scikit-learn.org/stable/modules/generated/sklearn.feature_extraction.text.CountVectorizer.html) de Scikit-Learn, quien construye un diccionario de características y transforma los documentos en vectores de características.\n",
        "\n",
        "`CountVectorizer` cuenta el número de ocurrencias de cada palabra. Trata cada palabra como una característica y cuenta el número de ocurrencias de cada una de ellas en cada documento siendo cada uno de ellos un registro.\n",
        "\n",
        "Al final obtenemos una matriz llamada **_document term matrix (DTM)_** en la que cada fila es un documento, mensaje, etc. y cada columna una palabra o término. Esta DTM es una matrix dispersa ya que va a contener muchos ceros puesto que no todos los documentos del corpus contienen todas las palabras.\n",
        "\n",
        "Para construirla se cuenta el número de veces que cada una de las palabra del vocabulario del corpus completo aparece en cada documento concreto.\n",
        "\n",
        "Vamos a ver un ejemplo en el que vamos a trabajar con una serie de mensajes en los que algunos de ellos han sido marcados como _spam_. Lo primero que haremos será importar las librerías necesarias y los datos."
      ]
    },
    {
      "cell_type": "code",
      "execution_count": null,
      "id": "5152e2f2-9eef-4277-955b-e187689a71ac",
      "metadata": {
        "id": "5152e2f2-9eef-4277-955b-e187689a71ac"
      },
      "outputs": [],
      "source": [
        "# Importar librerías\n",
        "import numpy as np\n",
        "import pandas as pd"
      ]
    },
    {
      "cell_type": "code",
      "execution_count": null,
      "id": "b149d79a-4f51-4a2c-9643-224ad0e462d9",
      "metadata": {
        "colab": {
          "base_uri": "https://localhost:8080/",
          "height": 206
        },
        "id": "b149d79a-4f51-4a2c-9643-224ad0e462d9",
        "outputId": "326a9b15-4b62-4f7f-8df5-194605275c68"
      },
      "outputs": [
        {
          "output_type": "execute_result",
          "data": {
            "text/plain": [
              "  label                                            message  length  punct\n",
              "0   ham  Go until jurong point, crazy.. Available only ...     111      9\n",
              "1   ham                      Ok lar... Joking wif u oni...      29      6\n",
              "2  spam  Free entry in 2 a wkly comp to win FA Cup fina...     155      6\n",
              "3   ham  U dun say so early hor... U c already then say...      49      6\n",
              "4   ham  Nah I don't think he goes to usf, he lives aro...      61      2"
            ],
            "text/html": [
              "\n",
              "  <div id=\"df-796f1190-648f-42f7-aca3-fbba2dab37c1\" class=\"colab-df-container\">\n",
              "    <div>\n",
              "<style scoped>\n",
              "    .dataframe tbody tr th:only-of-type {\n",
              "        vertical-align: middle;\n",
              "    }\n",
              "\n",
              "    .dataframe tbody tr th {\n",
              "        vertical-align: top;\n",
              "    }\n",
              "\n",
              "    .dataframe thead th {\n",
              "        text-align: right;\n",
              "    }\n",
              "</style>\n",
              "<table border=\"1\" class=\"dataframe\">\n",
              "  <thead>\n",
              "    <tr style=\"text-align: right;\">\n",
              "      <th></th>\n",
              "      <th>label</th>\n",
              "      <th>message</th>\n",
              "      <th>length</th>\n",
              "      <th>punct</th>\n",
              "    </tr>\n",
              "  </thead>\n",
              "  <tbody>\n",
              "    <tr>\n",
              "      <th>0</th>\n",
              "      <td>ham</td>\n",
              "      <td>Go until jurong point, crazy.. Available only ...</td>\n",
              "      <td>111</td>\n",
              "      <td>9</td>\n",
              "    </tr>\n",
              "    <tr>\n",
              "      <th>1</th>\n",
              "      <td>ham</td>\n",
              "      <td>Ok lar... Joking wif u oni...</td>\n",
              "      <td>29</td>\n",
              "      <td>6</td>\n",
              "    </tr>\n",
              "    <tr>\n",
              "      <th>2</th>\n",
              "      <td>spam</td>\n",
              "      <td>Free entry in 2 a wkly comp to win FA Cup fina...</td>\n",
              "      <td>155</td>\n",
              "      <td>6</td>\n",
              "    </tr>\n",
              "    <tr>\n",
              "      <th>3</th>\n",
              "      <td>ham</td>\n",
              "      <td>U dun say so early hor... U c already then say...</td>\n",
              "      <td>49</td>\n",
              "      <td>6</td>\n",
              "    </tr>\n",
              "    <tr>\n",
              "      <th>4</th>\n",
              "      <td>ham</td>\n",
              "      <td>Nah I don't think he goes to usf, he lives aro...</td>\n",
              "      <td>61</td>\n",
              "      <td>2</td>\n",
              "    </tr>\n",
              "  </tbody>\n",
              "</table>\n",
              "</div>\n",
              "    <div class=\"colab-df-buttons\">\n",
              "\n",
              "  <div class=\"colab-df-container\">\n",
              "    <button class=\"colab-df-convert\" onclick=\"convertToInteractive('df-796f1190-648f-42f7-aca3-fbba2dab37c1')\"\n",
              "            title=\"Convert this dataframe to an interactive table.\"\n",
              "            style=\"display:none;\">\n",
              "\n",
              "  <svg xmlns=\"http://www.w3.org/2000/svg\" height=\"24px\" viewBox=\"0 -960 960 960\">\n",
              "    <path d=\"M120-120v-720h720v720H120Zm60-500h600v-160H180v160Zm220 220h160v-160H400v160Zm0 220h160v-160H400v160ZM180-400h160v-160H180v160Zm440 0h160v-160H620v160ZM180-180h160v-160H180v160Zm440 0h160v-160H620v160Z\"/>\n",
              "  </svg>\n",
              "    </button>\n",
              "\n",
              "  <style>\n",
              "    .colab-df-container {\n",
              "      display:flex;\n",
              "      gap: 12px;\n",
              "    }\n",
              "\n",
              "    .colab-df-convert {\n",
              "      background-color: #E8F0FE;\n",
              "      border: none;\n",
              "      border-radius: 50%;\n",
              "      cursor: pointer;\n",
              "      display: none;\n",
              "      fill: #1967D2;\n",
              "      height: 32px;\n",
              "      padding: 0 0 0 0;\n",
              "      width: 32px;\n",
              "    }\n",
              "\n",
              "    .colab-df-convert:hover {\n",
              "      background-color: #E2EBFA;\n",
              "      box-shadow: 0px 1px 2px rgba(60, 64, 67, 0.3), 0px 1px 3px 1px rgba(60, 64, 67, 0.15);\n",
              "      fill: #174EA6;\n",
              "    }\n",
              "\n",
              "    .colab-df-buttons div {\n",
              "      margin-bottom: 4px;\n",
              "    }\n",
              "\n",
              "    [theme=dark] .colab-df-convert {\n",
              "      background-color: #3B4455;\n",
              "      fill: #D2E3FC;\n",
              "    }\n",
              "\n",
              "    [theme=dark] .colab-df-convert:hover {\n",
              "      background-color: #434B5C;\n",
              "      box-shadow: 0px 1px 3px 1px rgba(0, 0, 0, 0.15);\n",
              "      filter: drop-shadow(0px 1px 2px rgba(0, 0, 0, 0.3));\n",
              "      fill: #FFFFFF;\n",
              "    }\n",
              "  </style>\n",
              "\n",
              "    <script>\n",
              "      const buttonEl =\n",
              "        document.querySelector('#df-796f1190-648f-42f7-aca3-fbba2dab37c1 button.colab-df-convert');\n",
              "      buttonEl.style.display =\n",
              "        google.colab.kernel.accessAllowed ? 'block' : 'none';\n",
              "\n",
              "      async function convertToInteractive(key) {\n",
              "        const element = document.querySelector('#df-796f1190-648f-42f7-aca3-fbba2dab37c1');\n",
              "        const dataTable =\n",
              "          await google.colab.kernel.invokeFunction('convertToInteractive',\n",
              "                                                    [key], {});\n",
              "        if (!dataTable) return;\n",
              "\n",
              "        const docLinkHtml = 'Like what you see? Visit the ' +\n",
              "          '<a target=\"_blank\" href=https://colab.research.google.com/notebooks/data_table.ipynb>data table notebook</a>'\n",
              "          + ' to learn more about interactive tables.';\n",
              "        element.innerHTML = '';\n",
              "        dataTable['output_type'] = 'display_data';\n",
              "        await google.colab.output.renderOutput(dataTable, element);\n",
              "        const docLink = document.createElement('div');\n",
              "        docLink.innerHTML = docLinkHtml;\n",
              "        element.appendChild(docLink);\n",
              "      }\n",
              "    </script>\n",
              "  </div>\n",
              "\n",
              "\n",
              "<div id=\"df-913956df-350e-441b-b83d-920b889205bc\">\n",
              "  <button class=\"colab-df-quickchart\" onclick=\"quickchart('df-913956df-350e-441b-b83d-920b889205bc')\"\n",
              "            title=\"Suggest charts\"\n",
              "            style=\"display:none;\">\n",
              "\n",
              "<svg xmlns=\"http://www.w3.org/2000/svg\" height=\"24px\"viewBox=\"0 0 24 24\"\n",
              "     width=\"24px\">\n",
              "    <g>\n",
              "        <path d=\"M19 3H5c-1.1 0-2 .9-2 2v14c0 1.1.9 2 2 2h14c1.1 0 2-.9 2-2V5c0-1.1-.9-2-2-2zM9 17H7v-7h2v7zm4 0h-2V7h2v10zm4 0h-2v-4h2v4z\"/>\n",
              "    </g>\n",
              "</svg>\n",
              "  </button>\n",
              "\n",
              "<style>\n",
              "  .colab-df-quickchart {\n",
              "      --bg-color: #E8F0FE;\n",
              "      --fill-color: #1967D2;\n",
              "      --hover-bg-color: #E2EBFA;\n",
              "      --hover-fill-color: #174EA6;\n",
              "      --disabled-fill-color: #AAA;\n",
              "      --disabled-bg-color: #DDD;\n",
              "  }\n",
              "\n",
              "  [theme=dark] .colab-df-quickchart {\n",
              "      --bg-color: #3B4455;\n",
              "      --fill-color: #D2E3FC;\n",
              "      --hover-bg-color: #434B5C;\n",
              "      --hover-fill-color: #FFFFFF;\n",
              "      --disabled-bg-color: #3B4455;\n",
              "      --disabled-fill-color: #666;\n",
              "  }\n",
              "\n",
              "  .colab-df-quickchart {\n",
              "    background-color: var(--bg-color);\n",
              "    border: none;\n",
              "    border-radius: 50%;\n",
              "    cursor: pointer;\n",
              "    display: none;\n",
              "    fill: var(--fill-color);\n",
              "    height: 32px;\n",
              "    padding: 0;\n",
              "    width: 32px;\n",
              "  }\n",
              "\n",
              "  .colab-df-quickchart:hover {\n",
              "    background-color: var(--hover-bg-color);\n",
              "    box-shadow: 0 1px 2px rgba(60, 64, 67, 0.3), 0 1px 3px 1px rgba(60, 64, 67, 0.15);\n",
              "    fill: var(--button-hover-fill-color);\n",
              "  }\n",
              "\n",
              "  .colab-df-quickchart-complete:disabled,\n",
              "  .colab-df-quickchart-complete:disabled:hover {\n",
              "    background-color: var(--disabled-bg-color);\n",
              "    fill: var(--disabled-fill-color);\n",
              "    box-shadow: none;\n",
              "  }\n",
              "\n",
              "  .colab-df-spinner {\n",
              "    border: 2px solid var(--fill-color);\n",
              "    border-color: transparent;\n",
              "    border-bottom-color: var(--fill-color);\n",
              "    animation:\n",
              "      spin 1s steps(1) infinite;\n",
              "  }\n",
              "\n",
              "  @keyframes spin {\n",
              "    0% {\n",
              "      border-color: transparent;\n",
              "      border-bottom-color: var(--fill-color);\n",
              "      border-left-color: var(--fill-color);\n",
              "    }\n",
              "    20% {\n",
              "      border-color: transparent;\n",
              "      border-left-color: var(--fill-color);\n",
              "      border-top-color: var(--fill-color);\n",
              "    }\n",
              "    30% {\n",
              "      border-color: transparent;\n",
              "      border-left-color: var(--fill-color);\n",
              "      border-top-color: var(--fill-color);\n",
              "      border-right-color: var(--fill-color);\n",
              "    }\n",
              "    40% {\n",
              "      border-color: transparent;\n",
              "      border-right-color: var(--fill-color);\n",
              "      border-top-color: var(--fill-color);\n",
              "    }\n",
              "    60% {\n",
              "      border-color: transparent;\n",
              "      border-right-color: var(--fill-color);\n",
              "    }\n",
              "    80% {\n",
              "      border-color: transparent;\n",
              "      border-right-color: var(--fill-color);\n",
              "      border-bottom-color: var(--fill-color);\n",
              "    }\n",
              "    90% {\n",
              "      border-color: transparent;\n",
              "      border-bottom-color: var(--fill-color);\n",
              "    }\n",
              "  }\n",
              "</style>\n",
              "\n",
              "  <script>\n",
              "    async function quickchart(key) {\n",
              "      const quickchartButtonEl =\n",
              "        document.querySelector('#' + key + ' button');\n",
              "      quickchartButtonEl.disabled = true;  // To prevent multiple clicks.\n",
              "      quickchartButtonEl.classList.add('colab-df-spinner');\n",
              "      try {\n",
              "        const charts = await google.colab.kernel.invokeFunction(\n",
              "            'suggestCharts', [key], {});\n",
              "      } catch (error) {\n",
              "        console.error('Error during call to suggestCharts:', error);\n",
              "      }\n",
              "      quickchartButtonEl.classList.remove('colab-df-spinner');\n",
              "      quickchartButtonEl.classList.add('colab-df-quickchart-complete');\n",
              "    }\n",
              "    (() => {\n",
              "      let quickchartButtonEl =\n",
              "        document.querySelector('#df-913956df-350e-441b-b83d-920b889205bc button');\n",
              "      quickchartButtonEl.style.display =\n",
              "        google.colab.kernel.accessAllowed ? 'block' : 'none';\n",
              "    })();\n",
              "  </script>\n",
              "</div>\n",
              "    </div>\n",
              "  </div>\n"
            ],
            "application/vnd.google.colaboratory.intrinsic+json": {
              "type": "dataframe",
              "variable_name": "df",
              "summary": "{\n  \"name\": \"df\",\n  \"rows\": 5572,\n  \"fields\": [\n    {\n      \"column\": \"label\",\n      \"properties\": {\n        \"dtype\": \"category\",\n        \"num_unique_values\": 2,\n        \"samples\": [\n          \"spam\",\n          \"ham\"\n        ],\n        \"semantic_type\": \"\",\n        \"description\": \"\"\n      }\n    },\n    {\n      \"column\": \"message\",\n      \"properties\": {\n        \"dtype\": \"string\",\n        \"num_unique_values\": 5169,\n        \"samples\": [\n          \"K, makes sense, btw carlos is being difficult so you guys are gonna smoke while I go pick up the second batch and get gas\",\n          \"URGENT! Your mobile No *********** WON a \\u00a32,000 Bonus Caller Prize on 02/06/03! This is the 2nd attempt to reach YOU! Call 09066362220 ASAP! BOX97N7QP, 150ppm\"\n        ],\n        \"semantic_type\": \"\",\n        \"description\": \"\"\n      }\n    },\n    {\n      \"column\": \"length\",\n      \"properties\": {\n        \"dtype\": \"number\",\n        \"std\": 59,\n        \"min\": 2,\n        \"max\": 910,\n        \"num_unique_values\": 274,\n        \"samples\": [\n          84,\n          177\n        ],\n        \"semantic_type\": \"\",\n        \"description\": \"\"\n      }\n    },\n    {\n      \"column\": \"punct\",\n      \"properties\": {\n        \"dtype\": \"number\",\n        \"std\": 4,\n        \"min\": 0,\n        \"max\": 133,\n        \"num_unique_values\": 38,\n        \"samples\": [\n          26,\n          36\n        ],\n        \"semantic_type\": \"\",\n        \"description\": \"\"\n      }\n    }\n  ]\n}"
            }
          },
          "metadata": {},
          "execution_count": 12
        }
      ],
      "source": [
        "# Importar datos\n",
        "df = pd.read_csv('/content/drive/MyDrive/data_saturdays/smsspamcollection.tsv', sep='\\t')\n",
        "df.head()"
      ]
    },
    {
      "cell_type": "code",
      "execution_count": null,
      "id": "75bdb6a4-2f8b-4973-8168-975901c0ef66",
      "metadata": {
        "colab": {
          "base_uri": "https://localhost:8080/"
        },
        "id": "75bdb6a4-2f8b-4973-8168-975901c0ef66",
        "outputId": "80880532-34fa-4480-c678-c969716084b3"
      },
      "outputs": [
        {
          "output_type": "execute_result",
          "data": {
            "text/plain": [
              "label      0\n",
              "message    0\n",
              "length     0\n",
              "punct      0\n",
              "dtype: int64"
            ]
          },
          "metadata": {},
          "execution_count": 13
        }
      ],
      "source": [
        "# Comprobamos si hay valores nulos\n",
        "df.isnull().sum()"
      ]
    },
    {
      "cell_type": "code",
      "execution_count": null,
      "id": "29f46297-57a5-4724-b4c3-f38904439c97",
      "metadata": {
        "colab": {
          "base_uri": "https://localhost:8080/"
        },
        "id": "29f46297-57a5-4724-b4c3-f38904439c97",
        "outputId": "807e34e7-af06-4671-939f-a4df7fc07016"
      },
      "outputs": [
        {
          "output_type": "execute_result",
          "data": {
            "text/plain": [
              "label\n",
              "ham     4825\n",
              "spam     747\n",
              "Name: count, dtype: int64"
            ]
          },
          "metadata": {},
          "execution_count": 14
        }
      ],
      "source": [
        "df['label'].value_counts()"
      ]
    },
    {
      "cell_type": "code",
      "execution_count": null,
      "id": "1e83b7f6-8d7d-4b0a-852e-2fa7a62b2a2c",
      "metadata": {
        "colab": {
          "base_uri": "https://localhost:8080/"
        },
        "id": "1e83b7f6-8d7d-4b0a-852e-2fa7a62b2a2c",
        "outputId": "a707fce4-5b8b-4bcd-b3e4-c4345e2a320b"
      },
      "outputs": [
        {
          "output_type": "execute_result",
          "data": {
            "text/plain": [
              "86.59"
            ]
          },
          "metadata": {},
          "execution_count": 15
        }
      ],
      "source": [
        "round(df['label'].value_counts()['ham'] / len(df) * 100, 2)"
      ]
    },
    {
      "cell_type": "markdown",
      "id": "39225b28-ca93-4e85-80db-3abe2132d4b2",
      "metadata": {
        "id": "39225b28-ca93-4e85-80db-3abe2132d4b2"
      },
      "source": [
        "Al analizar la columna `label` vemos que 4825 de los 5572 mensajes son `ham`, lo que supone un 86,6% del total de mensajes. Esto significa que cualquier modelo de aprendizaje automático que creemos tiene que tener una tasa de acierto mayor del 86,6% para superar la probabilidad aleatoria.\n",
        "\n",
        "El siguiente paso es dividir los datos en los conjuntos de entrenamiento y prueba."
      ]
    },
    {
      "cell_type": "code",
      "execution_count": null,
      "id": "53baa4a8-be24-4527-a1a5-7898634a6bb5",
      "metadata": {
        "id": "53baa4a8-be24-4527-a1a5-7898634a6bb5"
      },
      "outputs": [],
      "source": [
        "from sklearn.model_selection import train_test_split"
      ]
    },
    {
      "cell_type": "markdown",
      "id": "c7e2ec05-181e-4c53-9a2c-bbd2720eb36d",
      "metadata": {
        "id": "c7e2ec05-181e-4c53-9a2c-bbd2720eb36d"
      },
      "source": [
        "Solo queremos usar como característica el texto de los mensajes."
      ]
    },
    {
      "cell_type": "code",
      "execution_count": null,
      "id": "408bbbd8-22cd-4188-85c8-f6daffb67d0b",
      "metadata": {
        "id": "408bbbd8-22cd-4188-85c8-f6daffb67d0b"
      },
      "outputs": [],
      "source": [
        "X = df['message']\n",
        "y = df['label']"
      ]
    },
    {
      "cell_type": "code",
      "execution_count": null,
      "id": "dba42bb3-6aa0-42d1-872e-ba8f3d3b67d9",
      "metadata": {
        "id": "dba42bb3-6aa0-42d1-872e-ba8f3d3b67d9"
      },
      "outputs": [],
      "source": [
        "X_train, X_test, y_train, y_test = train_test_split(X,\n",
        "                                                    y,\n",
        "                                                    test_size=0.33,\n",
        "                                                    random_state=42)"
      ]
    },
    {
      "cell_type": "markdown",
      "id": "7472ec5e-6f50-40a6-9bf2-7b56a5abe860",
      "metadata": {
        "id": "7472ec5e-6f50-40a6-9bf2-7b56a5abe860"
      },
      "source": [
        "El siguiente paso en construir la matriz de términos usando `CountVectorizer`."
      ]
    },
    {
      "cell_type": "code",
      "execution_count": null,
      "id": "4880f207-4927-443c-8937-dd4a12d49410",
      "metadata": {
        "id": "4880f207-4927-443c-8937-dd4a12d49410"
      },
      "outputs": [],
      "source": [
        "from sklearn.feature_extraction.text import CountVectorizer"
      ]
    },
    {
      "cell_type": "code",
      "execution_count": null,
      "id": "5a9eae36-7f2f-4d8e-8825-1b5da471e880",
      "metadata": {
        "colab": {
          "base_uri": "https://localhost:8080/"
        },
        "id": "5a9eae36-7f2f-4d8e-8825-1b5da471e880",
        "outputId": "32100c1b-f480-40ab-f13e-15244b332035"
      },
      "outputs": [
        {
          "output_type": "execute_result",
          "data": {
            "text/plain": [
              "(3733, 7082)"
            ]
          },
          "metadata": {},
          "execution_count": 19
        }
      ],
      "source": [
        "count_vect = CountVectorizer()\n",
        "#Entrenamos el vectorizador con los datos  y Transformamos el mensaje original en vector\n",
        "X_train_counts = count_vect.fit_transform(X_train)\n",
        "X_train_counts.shape"
      ]
    },
    {
      "cell_type": "code",
      "execution_count": null,
      "id": "2a0c0858-c5cd-4e7f-a492-bcca60febcb7",
      "metadata": {
        "colab": {
          "base_uri": "https://localhost:8080/"
        },
        "id": "2a0c0858-c5cd-4e7f-a492-bcca60febcb7",
        "outputId": "4d6126f3-2e94-42d6-fa9d-107b8983ca52"
      },
      "outputs": [
        {
          "output_type": "execute_result",
          "data": {
            "text/plain": [
              "<3733x7082 sparse matrix of type '<class 'numpy.int64'>'\n",
              "\twith 49992 stored elements in Compressed Sparse Row format>"
            ]
          },
          "metadata": {},
          "execution_count": 20
        }
      ],
      "source": [
        "# Guarda la matriz dispersa en un formato comprimido\n",
        "X_train_counts"
      ]
    },
    {
      "cell_type": "markdown",
      "id": "7865b48b-e297-4841-8032-4f8c92ebb54c",
      "metadata": {
        "id": "7865b48b-e297-4841-8032-4f8c92ebb54c"
      },
      "source": [
        "Esto nos dice que nuestro conjunto de entrenamiento está compuesto de 3733 documentos y 7082 características o tokens únicos (vocabulario).\n",
        "\n",
        "Lo anterior también podemos verlo hecho en dos pasos:\n",
        "\n",
        "1. Entrenamos el vectorizador con los datos (contruye el vocabulario, cuenta el número de palabras...)\n",
        "\n",
        "```python\n",
        "    count_vect.fit(X_train)\n",
        "```\n",
        "2. Transformamos el mensaje original en vector\n",
        "\n",
        "```python\n",
        "    X_train_counts = count_vect.transform(X_train)\n",
        "```\n",
        "\n",
        "Si queremos, podemos convertir la matriz dispersa en un DataFrame donde las columnas serán los términos del vocabulario y las filas los mensajes o documentos para así poder inspeccionarla."
      ]
    },
    {
      "cell_type": "code",
      "execution_count": null,
      "id": "a086bce9-c647-4071-9a70-3ac0493e55ed",
      "metadata": {
        "colab": {
          "base_uri": "https://localhost:8080/",
          "height": 444
        },
        "id": "a086bce9-c647-4071-9a70-3ac0493e55ed",
        "outputId": "4e760610-fcdc-4f93-ffd2-73faa3b8e19d"
      },
      "outputs": [
        {
          "output_type": "execute_result",
          "data": {
            "text/plain": [
              "      00  000  000pes  0089  0121  01223585236  01223585334  02  0207  \\\n",
              "0      0    0       0     0     0            0            0   0     0   \n",
              "1      0    0       0     0     0            0            0   0     0   \n",
              "2      0    0       0     0     0            0            0   0     0   \n",
              "3      0    0       0     0     0            0            0   0     0   \n",
              "4      0    0       0     0     0            0            0   0     0   \n",
              "...   ..  ...     ...   ...   ...          ...          ...  ..   ...   \n",
              "3728   0    0       0     0     0            0            0   0     0   \n",
              "3729   0    0       0     0     0            0            0   0     0   \n",
              "3730   0    0       0     0     0            0            0   0     0   \n",
              "3731   0    0       0     0     0            0            0   0     0   \n",
              "3732   0    0       0     0     0            0            0   0     0   \n",
              "\n",
              "      02072069400  ...  zealand  zebra  zed  zeros  zhong  zoe  zogtorius  \\\n",
              "0               0  ...        0      0    0      0      0    0          0   \n",
              "1               0  ...        0      0    0      0      0    0          0   \n",
              "2               0  ...        0      0    0      0      0    0          0   \n",
              "3               0  ...        0      0    0      0      0    0          0   \n",
              "4               0  ...        0      0    0      0      0    0          0   \n",
              "...           ...  ...      ...    ...  ...    ...    ...  ...        ...   \n",
              "3728            0  ...        0      0    0      0      0    0          0   \n",
              "3729            0  ...        0      0    0      0      0    0          0   \n",
              "3730            0  ...        0      0    0      0      0    0          0   \n",
              "3731            0  ...        0      0    0      0      0    0          0   \n",
              "3732            0  ...        0      0    0      0      0    0          0   \n",
              "\n",
              "      zoom  zouk  èn  \n",
              "0        0     0   0  \n",
              "1        0     0   0  \n",
              "2        0     0   0  \n",
              "3        0     0   0  \n",
              "4        0     0   0  \n",
              "...    ...   ...  ..  \n",
              "3728     0     0   0  \n",
              "3729     0     0   0  \n",
              "3730     0     0   0  \n",
              "3731     0     0   0  \n",
              "3732     0     0   0  \n",
              "\n",
              "[3733 rows x 7082 columns]"
            ],
            "text/html": [
              "\n",
              "  <div id=\"df-c29d023b-0c91-4e55-af40-bcd5c39e5b12\" class=\"colab-df-container\">\n",
              "    <div>\n",
              "<style scoped>\n",
              "    .dataframe tbody tr th:only-of-type {\n",
              "        vertical-align: middle;\n",
              "    }\n",
              "\n",
              "    .dataframe tbody tr th {\n",
              "        vertical-align: top;\n",
              "    }\n",
              "\n",
              "    .dataframe thead th {\n",
              "        text-align: right;\n",
              "    }\n",
              "</style>\n",
              "<table border=\"1\" class=\"dataframe\">\n",
              "  <thead>\n",
              "    <tr style=\"text-align: right;\">\n",
              "      <th></th>\n",
              "      <th>00</th>\n",
              "      <th>000</th>\n",
              "      <th>000pes</th>\n",
              "      <th>0089</th>\n",
              "      <th>0121</th>\n",
              "      <th>01223585236</th>\n",
              "      <th>01223585334</th>\n",
              "      <th>02</th>\n",
              "      <th>0207</th>\n",
              "      <th>02072069400</th>\n",
              "      <th>...</th>\n",
              "      <th>zealand</th>\n",
              "      <th>zebra</th>\n",
              "      <th>zed</th>\n",
              "      <th>zeros</th>\n",
              "      <th>zhong</th>\n",
              "      <th>zoe</th>\n",
              "      <th>zogtorius</th>\n",
              "      <th>zoom</th>\n",
              "      <th>zouk</th>\n",
              "      <th>èn</th>\n",
              "    </tr>\n",
              "  </thead>\n",
              "  <tbody>\n",
              "    <tr>\n",
              "      <th>0</th>\n",
              "      <td>0</td>\n",
              "      <td>0</td>\n",
              "      <td>0</td>\n",
              "      <td>0</td>\n",
              "      <td>0</td>\n",
              "      <td>0</td>\n",
              "      <td>0</td>\n",
              "      <td>0</td>\n",
              "      <td>0</td>\n",
              "      <td>0</td>\n",
              "      <td>...</td>\n",
              "      <td>0</td>\n",
              "      <td>0</td>\n",
              "      <td>0</td>\n",
              "      <td>0</td>\n",
              "      <td>0</td>\n",
              "      <td>0</td>\n",
              "      <td>0</td>\n",
              "      <td>0</td>\n",
              "      <td>0</td>\n",
              "      <td>0</td>\n",
              "    </tr>\n",
              "    <tr>\n",
              "      <th>1</th>\n",
              "      <td>0</td>\n",
              "      <td>0</td>\n",
              "      <td>0</td>\n",
              "      <td>0</td>\n",
              "      <td>0</td>\n",
              "      <td>0</td>\n",
              "      <td>0</td>\n",
              "      <td>0</td>\n",
              "      <td>0</td>\n",
              "      <td>0</td>\n",
              "      <td>...</td>\n",
              "      <td>0</td>\n",
              "      <td>0</td>\n",
              "      <td>0</td>\n",
              "      <td>0</td>\n",
              "      <td>0</td>\n",
              "      <td>0</td>\n",
              "      <td>0</td>\n",
              "      <td>0</td>\n",
              "      <td>0</td>\n",
              "      <td>0</td>\n",
              "    </tr>\n",
              "    <tr>\n",
              "      <th>2</th>\n",
              "      <td>0</td>\n",
              "      <td>0</td>\n",
              "      <td>0</td>\n",
              "      <td>0</td>\n",
              "      <td>0</td>\n",
              "      <td>0</td>\n",
              "      <td>0</td>\n",
              "      <td>0</td>\n",
              "      <td>0</td>\n",
              "      <td>0</td>\n",
              "      <td>...</td>\n",
              "      <td>0</td>\n",
              "      <td>0</td>\n",
              "      <td>0</td>\n",
              "      <td>0</td>\n",
              "      <td>0</td>\n",
              "      <td>0</td>\n",
              "      <td>0</td>\n",
              "      <td>0</td>\n",
              "      <td>0</td>\n",
              "      <td>0</td>\n",
              "    </tr>\n",
              "    <tr>\n",
              "      <th>3</th>\n",
              "      <td>0</td>\n",
              "      <td>0</td>\n",
              "      <td>0</td>\n",
              "      <td>0</td>\n",
              "      <td>0</td>\n",
              "      <td>0</td>\n",
              "      <td>0</td>\n",
              "      <td>0</td>\n",
              "      <td>0</td>\n",
              "      <td>0</td>\n",
              "      <td>...</td>\n",
              "      <td>0</td>\n",
              "      <td>0</td>\n",
              "      <td>0</td>\n",
              "      <td>0</td>\n",
              "      <td>0</td>\n",
              "      <td>0</td>\n",
              "      <td>0</td>\n",
              "      <td>0</td>\n",
              "      <td>0</td>\n",
              "      <td>0</td>\n",
              "    </tr>\n",
              "    <tr>\n",
              "      <th>4</th>\n",
              "      <td>0</td>\n",
              "      <td>0</td>\n",
              "      <td>0</td>\n",
              "      <td>0</td>\n",
              "      <td>0</td>\n",
              "      <td>0</td>\n",
              "      <td>0</td>\n",
              "      <td>0</td>\n",
              "      <td>0</td>\n",
              "      <td>0</td>\n",
              "      <td>...</td>\n",
              "      <td>0</td>\n",
              "      <td>0</td>\n",
              "      <td>0</td>\n",
              "      <td>0</td>\n",
              "      <td>0</td>\n",
              "      <td>0</td>\n",
              "      <td>0</td>\n",
              "      <td>0</td>\n",
              "      <td>0</td>\n",
              "      <td>0</td>\n",
              "    </tr>\n",
              "    <tr>\n",
              "      <th>...</th>\n",
              "      <td>...</td>\n",
              "      <td>...</td>\n",
              "      <td>...</td>\n",
              "      <td>...</td>\n",
              "      <td>...</td>\n",
              "      <td>...</td>\n",
              "      <td>...</td>\n",
              "      <td>...</td>\n",
              "      <td>...</td>\n",
              "      <td>...</td>\n",
              "      <td>...</td>\n",
              "      <td>...</td>\n",
              "      <td>...</td>\n",
              "      <td>...</td>\n",
              "      <td>...</td>\n",
              "      <td>...</td>\n",
              "      <td>...</td>\n",
              "      <td>...</td>\n",
              "      <td>...</td>\n",
              "      <td>...</td>\n",
              "      <td>...</td>\n",
              "    </tr>\n",
              "    <tr>\n",
              "      <th>3728</th>\n",
              "      <td>0</td>\n",
              "      <td>0</td>\n",
              "      <td>0</td>\n",
              "      <td>0</td>\n",
              "      <td>0</td>\n",
              "      <td>0</td>\n",
              "      <td>0</td>\n",
              "      <td>0</td>\n",
              "      <td>0</td>\n",
              "      <td>0</td>\n",
              "      <td>...</td>\n",
              "      <td>0</td>\n",
              "      <td>0</td>\n",
              "      <td>0</td>\n",
              "      <td>0</td>\n",
              "      <td>0</td>\n",
              "      <td>0</td>\n",
              "      <td>0</td>\n",
              "      <td>0</td>\n",
              "      <td>0</td>\n",
              "      <td>0</td>\n",
              "    </tr>\n",
              "    <tr>\n",
              "      <th>3729</th>\n",
              "      <td>0</td>\n",
              "      <td>0</td>\n",
              "      <td>0</td>\n",
              "      <td>0</td>\n",
              "      <td>0</td>\n",
              "      <td>0</td>\n",
              "      <td>0</td>\n",
              "      <td>0</td>\n",
              "      <td>0</td>\n",
              "      <td>0</td>\n",
              "      <td>...</td>\n",
              "      <td>0</td>\n",
              "      <td>0</td>\n",
              "      <td>0</td>\n",
              "      <td>0</td>\n",
              "      <td>0</td>\n",
              "      <td>0</td>\n",
              "      <td>0</td>\n",
              "      <td>0</td>\n",
              "      <td>0</td>\n",
              "      <td>0</td>\n",
              "    </tr>\n",
              "    <tr>\n",
              "      <th>3730</th>\n",
              "      <td>0</td>\n",
              "      <td>0</td>\n",
              "      <td>0</td>\n",
              "      <td>0</td>\n",
              "      <td>0</td>\n",
              "      <td>0</td>\n",
              "      <td>0</td>\n",
              "      <td>0</td>\n",
              "      <td>0</td>\n",
              "      <td>0</td>\n",
              "      <td>...</td>\n",
              "      <td>0</td>\n",
              "      <td>0</td>\n",
              "      <td>0</td>\n",
              "      <td>0</td>\n",
              "      <td>0</td>\n",
              "      <td>0</td>\n",
              "      <td>0</td>\n",
              "      <td>0</td>\n",
              "      <td>0</td>\n",
              "      <td>0</td>\n",
              "    </tr>\n",
              "    <tr>\n",
              "      <th>3731</th>\n",
              "      <td>0</td>\n",
              "      <td>0</td>\n",
              "      <td>0</td>\n",
              "      <td>0</td>\n",
              "      <td>0</td>\n",
              "      <td>0</td>\n",
              "      <td>0</td>\n",
              "      <td>0</td>\n",
              "      <td>0</td>\n",
              "      <td>0</td>\n",
              "      <td>...</td>\n",
              "      <td>0</td>\n",
              "      <td>0</td>\n",
              "      <td>0</td>\n",
              "      <td>0</td>\n",
              "      <td>0</td>\n",
              "      <td>0</td>\n",
              "      <td>0</td>\n",
              "      <td>0</td>\n",
              "      <td>0</td>\n",
              "      <td>0</td>\n",
              "    </tr>\n",
              "    <tr>\n",
              "      <th>3732</th>\n",
              "      <td>0</td>\n",
              "      <td>0</td>\n",
              "      <td>0</td>\n",
              "      <td>0</td>\n",
              "      <td>0</td>\n",
              "      <td>0</td>\n",
              "      <td>0</td>\n",
              "      <td>0</td>\n",
              "      <td>0</td>\n",
              "      <td>0</td>\n",
              "      <td>...</td>\n",
              "      <td>0</td>\n",
              "      <td>0</td>\n",
              "      <td>0</td>\n",
              "      <td>0</td>\n",
              "      <td>0</td>\n",
              "      <td>0</td>\n",
              "      <td>0</td>\n",
              "      <td>0</td>\n",
              "      <td>0</td>\n",
              "      <td>0</td>\n",
              "    </tr>\n",
              "  </tbody>\n",
              "</table>\n",
              "<p>3733 rows × 7082 columns</p>\n",
              "</div>\n",
              "    <div class=\"colab-df-buttons\">\n",
              "\n",
              "  <div class=\"colab-df-container\">\n",
              "    <button class=\"colab-df-convert\" onclick=\"convertToInteractive('df-c29d023b-0c91-4e55-af40-bcd5c39e5b12')\"\n",
              "            title=\"Convert this dataframe to an interactive table.\"\n",
              "            style=\"display:none;\">\n",
              "\n",
              "  <svg xmlns=\"http://www.w3.org/2000/svg\" height=\"24px\" viewBox=\"0 -960 960 960\">\n",
              "    <path d=\"M120-120v-720h720v720H120Zm60-500h600v-160H180v160Zm220 220h160v-160H400v160Zm0 220h160v-160H400v160ZM180-400h160v-160H180v160Zm440 0h160v-160H620v160ZM180-180h160v-160H180v160Zm440 0h160v-160H620v160Z\"/>\n",
              "  </svg>\n",
              "    </button>\n",
              "\n",
              "  <style>\n",
              "    .colab-df-container {\n",
              "      display:flex;\n",
              "      gap: 12px;\n",
              "    }\n",
              "\n",
              "    .colab-df-convert {\n",
              "      background-color: #E8F0FE;\n",
              "      border: none;\n",
              "      border-radius: 50%;\n",
              "      cursor: pointer;\n",
              "      display: none;\n",
              "      fill: #1967D2;\n",
              "      height: 32px;\n",
              "      padding: 0 0 0 0;\n",
              "      width: 32px;\n",
              "    }\n",
              "\n",
              "    .colab-df-convert:hover {\n",
              "      background-color: #E2EBFA;\n",
              "      box-shadow: 0px 1px 2px rgba(60, 64, 67, 0.3), 0px 1px 3px 1px rgba(60, 64, 67, 0.15);\n",
              "      fill: #174EA6;\n",
              "    }\n",
              "\n",
              "    .colab-df-buttons div {\n",
              "      margin-bottom: 4px;\n",
              "    }\n",
              "\n",
              "    [theme=dark] .colab-df-convert {\n",
              "      background-color: #3B4455;\n",
              "      fill: #D2E3FC;\n",
              "    }\n",
              "\n",
              "    [theme=dark] .colab-df-convert:hover {\n",
              "      background-color: #434B5C;\n",
              "      box-shadow: 0px 1px 3px 1px rgba(0, 0, 0, 0.15);\n",
              "      filter: drop-shadow(0px 1px 2px rgba(0, 0, 0, 0.3));\n",
              "      fill: #FFFFFF;\n",
              "    }\n",
              "  </style>\n",
              "\n",
              "    <script>\n",
              "      const buttonEl =\n",
              "        document.querySelector('#df-c29d023b-0c91-4e55-af40-bcd5c39e5b12 button.colab-df-convert');\n",
              "      buttonEl.style.display =\n",
              "        google.colab.kernel.accessAllowed ? 'block' : 'none';\n",
              "\n",
              "      async function convertToInteractive(key) {\n",
              "        const element = document.querySelector('#df-c29d023b-0c91-4e55-af40-bcd5c39e5b12');\n",
              "        const dataTable =\n",
              "          await google.colab.kernel.invokeFunction('convertToInteractive',\n",
              "                                                    [key], {});\n",
              "        if (!dataTable) return;\n",
              "\n",
              "        const docLinkHtml = 'Like what you see? Visit the ' +\n",
              "          '<a target=\"_blank\" href=https://colab.research.google.com/notebooks/data_table.ipynb>data table notebook</a>'\n",
              "          + ' to learn more about interactive tables.';\n",
              "        element.innerHTML = '';\n",
              "        dataTable['output_type'] = 'display_data';\n",
              "        await google.colab.output.renderOutput(dataTable, element);\n",
              "        const docLink = document.createElement('div');\n",
              "        docLink.innerHTML = docLinkHtml;\n",
              "        element.appendChild(docLink);\n",
              "      }\n",
              "    </script>\n",
              "  </div>\n",
              "\n",
              "\n",
              "<div id=\"df-4d63133e-a07e-469f-8fda-cda1474a3c29\">\n",
              "  <button class=\"colab-df-quickchart\" onclick=\"quickchart('df-4d63133e-a07e-469f-8fda-cda1474a3c29')\"\n",
              "            title=\"Suggest charts\"\n",
              "            style=\"display:none;\">\n",
              "\n",
              "<svg xmlns=\"http://www.w3.org/2000/svg\" height=\"24px\"viewBox=\"0 0 24 24\"\n",
              "     width=\"24px\">\n",
              "    <g>\n",
              "        <path d=\"M19 3H5c-1.1 0-2 .9-2 2v14c0 1.1.9 2 2 2h14c1.1 0 2-.9 2-2V5c0-1.1-.9-2-2-2zM9 17H7v-7h2v7zm4 0h-2V7h2v10zm4 0h-2v-4h2v4z\"/>\n",
              "    </g>\n",
              "</svg>\n",
              "  </button>\n",
              "\n",
              "<style>\n",
              "  .colab-df-quickchart {\n",
              "      --bg-color: #E8F0FE;\n",
              "      --fill-color: #1967D2;\n",
              "      --hover-bg-color: #E2EBFA;\n",
              "      --hover-fill-color: #174EA6;\n",
              "      --disabled-fill-color: #AAA;\n",
              "      --disabled-bg-color: #DDD;\n",
              "  }\n",
              "\n",
              "  [theme=dark] .colab-df-quickchart {\n",
              "      --bg-color: #3B4455;\n",
              "      --fill-color: #D2E3FC;\n",
              "      --hover-bg-color: #434B5C;\n",
              "      --hover-fill-color: #FFFFFF;\n",
              "      --disabled-bg-color: #3B4455;\n",
              "      --disabled-fill-color: #666;\n",
              "  }\n",
              "\n",
              "  .colab-df-quickchart {\n",
              "    background-color: var(--bg-color);\n",
              "    border: none;\n",
              "    border-radius: 50%;\n",
              "    cursor: pointer;\n",
              "    display: none;\n",
              "    fill: var(--fill-color);\n",
              "    height: 32px;\n",
              "    padding: 0;\n",
              "    width: 32px;\n",
              "  }\n",
              "\n",
              "  .colab-df-quickchart:hover {\n",
              "    background-color: var(--hover-bg-color);\n",
              "    box-shadow: 0 1px 2px rgba(60, 64, 67, 0.3), 0 1px 3px 1px rgba(60, 64, 67, 0.15);\n",
              "    fill: var(--button-hover-fill-color);\n",
              "  }\n",
              "\n",
              "  .colab-df-quickchart-complete:disabled,\n",
              "  .colab-df-quickchart-complete:disabled:hover {\n",
              "    background-color: var(--disabled-bg-color);\n",
              "    fill: var(--disabled-fill-color);\n",
              "    box-shadow: none;\n",
              "  }\n",
              "\n",
              "  .colab-df-spinner {\n",
              "    border: 2px solid var(--fill-color);\n",
              "    border-color: transparent;\n",
              "    border-bottom-color: var(--fill-color);\n",
              "    animation:\n",
              "      spin 1s steps(1) infinite;\n",
              "  }\n",
              "\n",
              "  @keyframes spin {\n",
              "    0% {\n",
              "      border-color: transparent;\n",
              "      border-bottom-color: var(--fill-color);\n",
              "      border-left-color: var(--fill-color);\n",
              "    }\n",
              "    20% {\n",
              "      border-color: transparent;\n",
              "      border-left-color: var(--fill-color);\n",
              "      border-top-color: var(--fill-color);\n",
              "    }\n",
              "    30% {\n",
              "      border-color: transparent;\n",
              "      border-left-color: var(--fill-color);\n",
              "      border-top-color: var(--fill-color);\n",
              "      border-right-color: var(--fill-color);\n",
              "    }\n",
              "    40% {\n",
              "      border-color: transparent;\n",
              "      border-right-color: var(--fill-color);\n",
              "      border-top-color: var(--fill-color);\n",
              "    }\n",
              "    60% {\n",
              "      border-color: transparent;\n",
              "      border-right-color: var(--fill-color);\n",
              "    }\n",
              "    80% {\n",
              "      border-color: transparent;\n",
              "      border-right-color: var(--fill-color);\n",
              "      border-bottom-color: var(--fill-color);\n",
              "    }\n",
              "    90% {\n",
              "      border-color: transparent;\n",
              "      border-bottom-color: var(--fill-color);\n",
              "    }\n",
              "  }\n",
              "</style>\n",
              "\n",
              "  <script>\n",
              "    async function quickchart(key) {\n",
              "      const quickchartButtonEl =\n",
              "        document.querySelector('#' + key + ' button');\n",
              "      quickchartButtonEl.disabled = true;  // To prevent multiple clicks.\n",
              "      quickchartButtonEl.classList.add('colab-df-spinner');\n",
              "      try {\n",
              "        const charts = await google.colab.kernel.invokeFunction(\n",
              "            'suggestCharts', [key], {});\n",
              "      } catch (error) {\n",
              "        console.error('Error during call to suggestCharts:', error);\n",
              "      }\n",
              "      quickchartButtonEl.classList.remove('colab-df-spinner');\n",
              "      quickchartButtonEl.classList.add('colab-df-quickchart-complete');\n",
              "    }\n",
              "    (() => {\n",
              "      let quickchartButtonEl =\n",
              "        document.querySelector('#df-4d63133e-a07e-469f-8fda-cda1474a3c29 button');\n",
              "      quickchartButtonEl.style.display =\n",
              "        google.colab.kernel.accessAllowed ? 'block' : 'none';\n",
              "    })();\n",
              "  </script>\n",
              "</div>\n",
              "    </div>\n",
              "  </div>\n"
            ],
            "application/vnd.google.colaboratory.intrinsic+json": {
              "type": "dataframe",
              "variable_name": "X_train_counts_df"
            }
          },
          "metadata": {},
          "execution_count": 23
        }
      ],
      "source": [
        "# Convertimos la matriz dispersa en un DataFrame\n",
        "X_train_counts_df = pd.DataFrame.sparse.from_spmatrix(X_train_counts,\n",
        "                                                      columns=count_vect.get_feature_names_out())\n",
        "\n",
        "X_train_counts_df"
      ]
    },
    {
      "cell_type": "markdown",
      "id": "a1332a7a-e12e-4101-925b-3c99eb445ea3",
      "metadata": {
        "id": "a1332a7a-e12e-4101-925b-3c99eb445ea3"
      },
      "source": [
        "Comprobemos con un ejemplo que es correcto."
      ]
    },
    {
      "cell_type": "code",
      "execution_count": null,
      "id": "184f8b59-4e53-4d57-b0c8-c12122ddcf7c",
      "metadata": {
        "id": "184f8b59-4e53-4d57-b0c8-c12122ddcf7c",
        "outputId": "fefbf638-eae6-4763-e7de-b61a05d48d08",
        "colab": {
          "base_uri": "https://localhost:8080/",
          "height": 53
        }
      },
      "outputs": [
        {
          "output_type": "execute_result",
          "data": {
            "text/plain": [
              "'I sent my scores to sophas and i had to do secondary application for a few schools. I think if you are thinking of applying, do a research on cost also. Contact joke ogunrinde, her school is one me the less expensive ones'"
            ],
            "application/vnd.google.colaboratory.intrinsic+json": {
              "type": "string"
            }
          },
          "metadata": {},
          "execution_count": 24
        }
      ],
      "source": [
        "X_train.iloc[1]"
      ]
    },
    {
      "cell_type": "code",
      "execution_count": null,
      "id": "3e773920-f4ce-48c4-9e72-9fcaa3e5ba26",
      "metadata": {
        "id": "3e773920-f4ce-48c4-9e72-9fcaa3e5ba26",
        "outputId": "bb7d8f7f-a1bd-4bb0-d8ed-5061b7b87773",
        "colab": {
          "base_uri": "https://localhost:8080/"
        }
      },
      "outputs": [
        {
          "output_type": "execute_result",
          "data": {
            "text/plain": [
              "2"
            ]
          },
          "metadata": {},
          "execution_count": 25
        }
      ],
      "source": [
        "X_train_counts_df.loc[1, 'to']"
      ]
    },
    {
      "cell_type": "markdown",
      "id": "81af5abb-54ee-47b3-9c20-764ac0ee121a",
      "metadata": {
        "id": "81af5abb-54ee-47b3-9c20-764ac0ee121a"
      },
      "source": [
        "Vemos que el token `to` efectivamente aparece 2 veces en el texto."
      ]
    },
    {
      "cell_type": "markdown",
      "id": "c6638ae0-aed3-449f-9667-9e7804f1c2be",
      "metadata": {
        "tags": [],
        "id": "c6638ae0-aed3-449f-9667-9e7804f1c2be"
      },
      "source": [
        "## Term Frequency/Inverse Document Frequency (TF-IDF)\n",
        "\n",
        "Podemos mejorar la técnica de los vectores de conteo simplemente ajustando el conteo de palabras a su frecuencia de aparición en el corpus, es decir, en el conjunto de todos los documentos. Para ello podemos usar _**TF-IDF**_ _(Term Frecuency - Inverse Document Frecuency)_.\n",
        "\n",
        "TF-IDF significa _**frecuencia de términos**_ y _**frecuencia inversa de documentos**_ respectivamente y es una de las técnicas de NLP más populares y efectivas.\n",
        "\n",
        "La idea principal detrás de esta técnica es que si un término aparece en algún texto con frecuencia, y rara vez en cualquier otro texto, ese término tiene más importancia para este texto. Esta técnica utiliza los algoritmos TF e IDF:\n",
        "\n",
        "### TF (_term frecuency_ o frecuencia de términos)\n",
        "\n",
        "Si bien contar palabras es útil, los documentos más largos tendrán valores de recuento promedio más altos que los documentos más cortos. Para evitar esto, podemos simplemente dividir el número de ocurrencias de cada palabra en un documento por el número total de palabras en el documento.\n",
        "\n",
        "Así, TF muestra la frecuencia del término en el texto en comparación con el número total de palabras en el texto. Es una puntuación de la frecuencia de un término en un determinado documento y se define como la importancia de un término dentro de ese documento.\n",
        "\n",
        "Dado que cada documento tiene una longitud diferente, es posible que un término aparezca muchas más veces en documentos largos que en documentos más cortos. La frecuencia del término a menudo se divide por la longitud del documento para normalizar, de esta manera, el número de veces que una palabra aparece en documentos largos puede ser comparada con el de documentos cortos.\n",
        "\n",
        "$$\\text{TF}(t, d) = \\text{Nº de ocurrencias del término }t\\text{ en el documento }d$$\n",
        "\n",
        "Si los documentos a comparar tienen longitudes muy diferentes puede ser necesario dividir esto por la longitud del documento len(d).\n",
        "\n",
        "$$\\text{TF}(t, d) = \\frac{f(t, d)}{\\text{len}(d)}$$\n",
        "\n",
        "\n",
        "### IDF (_inverse document frecuency_ o frecuencia inversa de documento)\n",
        "\n",
        "El problema es que TF por si solo no es suficiente para un buen análisis de los textos. Así, si tenemos en cuenta palabras muy comunes como `de` o `y`, al ser tan comunes TF va a tender a poner énfasis en documentos que usan mucho estas palabras no dando suficiente peso a palabras más significativas como `gato` o `rojo` que aparecen de manera menos frecuente.\n",
        "\n",
        "Así, puede ser complicado diferenciar documentos en base a la frecuencia de términos si una palabra aparece en la mayoría de ellos, y aquí es donde interviene el algoritmo IDF que es la frecuencia inversa de términos en el texto y muestra la importancia de cada término en el corpus.\n",
        "\n",
        "Su misión es reducir las ponderaciones de las palabras que aparecen de forma más frecuente en muchos documentos del corpus y, por lo tanto, son menos informativas que las que aparecen solo en una parte más pequeña del corpus y que de esta forma se aumenta su peso.\n",
        "\n",
        "Se calcula como un logaritmo del número de textos dividido por el número de textos que contienen este término. Es una puntuación de lo raro que es el término en el conjunto de documentos. Cuanto más raro es el término, mayor es la puntuación de IDF. Podemos definir la frecuencia inversa en el documento (Inverse Document Frecuency) como la importancia del término en el corpus.\n",
        "\n",
        "$$\\text{IDF}(t, D) = log_e(D/t)$$\n",
        "\n",
        "Donde $D$ es el número total de documentos y $t$ es el número de documentos con el término.\n",
        "\n",
        "Con esto no solo contamos las palabras sino que nos hacemos una idea de la importancia de cada término dentro del corpus de documentos. La frecuencia inversa del documento es una medida de cuánta información proporciona la palabra, es decir, si el término es común o raro en todos los documentos.\n",
        "\n",
        "TF-IDF nos dice qué palabras son las más discriminantes entre documentos. Las palabras que aparecen mucho en un documento pero no en muchos documentos tienen un gran poder de discriminación. Destaca los términos muy específicos de un documento en particular mientras se suprimen los términos que son comunes a la mayoría de los documentos.\n",
        "\n",
        "Así, TF-IDF es una medida estadística que se utiliza para evaluar la importancia de una palabra para un documento en una colección o corpus. La importancia aumenta en proporción al número de veces que aparece una palabra en un documento, pero se compensa con la frecuencia de la palabra en el corpus.\n",
        "\n",
        "TF-IDF nos permite entender el contexto de las palabras a lo largo de todo el corpues de documentos y no solo su importancia relativa dentro de un único documento.\n",
        "\n",
        "Esta reducción a escala denominada TF-IDF no es más que la frecuencia de términos multiplicada por frecuencia inversa de documento.\n",
        "\n",
        "$$\\text{TF-IDF} = \\text{term frecuency} * \\frac{1}{\\text{document frecuency}}$$\n",
        "\n",
        "$$\\text{TF-IDF}(t, d, D) = \\text{TD}(t, d) * \\text{IDF}(t, D)$$\n",
        "\n",
        "Finalmente, una vez calculadas, simplemente agregamos las puntuaciones de TF-IDF de cada término en vectores como en el BoW.\n",
        "\n",
        "Los motores de búsqueda a menudo usan variaciones del esquema de ponderación TF-IDF como una herramienta central para calificar y clasificar la relevancia de un documento dada una consulta del usuario.\n",
        "\n",
        "Siguiendo con nuestro ejemplo, en el que ya hemos realizado el conteo de palabras usando `CountVectorizer`, podemos calcular TF-IDF usando [`TfidfTransformer`](https://scikit-learn.org/stable/modules/generated/sklearn.feature_extraction.text.TfidfTransformer.html) de Scikit-Learn."
      ]
    },
    {
      "cell_type": "code",
      "execution_count": null,
      "id": "8aea99ff-65e1-4c2f-ae65-4cbf7f06dc26",
      "metadata": {
        "id": "8aea99ff-65e1-4c2f-ae65-4cbf7f06dc26"
      },
      "outputs": [],
      "source": [
        "from sklearn.feature_extraction.text import TfidfTransformer"
      ]
    },
    {
      "cell_type": "code",
      "execution_count": null,
      "id": "ab7e9ad9-6213-486d-b23e-83733348f4bc",
      "metadata": {
        "id": "ab7e9ad9-6213-486d-b23e-83733348f4bc",
        "outputId": "6b22a0d3-47f9-468b-ec9c-f4232ac12e59",
        "colab": {
          "base_uri": "https://localhost:8080/"
        }
      },
      "outputs": [
        {
          "output_type": "execute_result",
          "data": {
            "text/plain": [
              "(3733, 7082)"
            ]
          },
          "metadata": {},
          "execution_count": 27
        }
      ],
      "source": [
        "tfidf_transformer = TfidfTransformer()\n",
        "\n",
        "X_train_tfidf = tfidf_transformer.fit_transform(X_train_counts)\n",
        "X_train_tfidf.shape"
      ]
    },
    {
      "cell_type": "code",
      "execution_count": null,
      "id": "10c698ee-3dac-4a99-8095-0c15806d9f83",
      "metadata": {
        "id": "10c698ee-3dac-4a99-8095-0c15806d9f83",
        "outputId": "bc8b94c6-e8c5-469b-e9a2-e5a1602d7f68",
        "colab": {
          "base_uri": "https://localhost:8080/"
        }
      },
      "outputs": [
        {
          "output_type": "execute_result",
          "data": {
            "text/plain": [
              "<3733x7082 sparse matrix of type '<class 'numpy.float64'>'\n",
              "\twith 49992 stored elements in Compressed Sparse Row format>"
            ]
          },
          "metadata": {},
          "execution_count": 28
        }
      ],
      "source": [
        "X_train_tfidf"
      ]
    },
    {
      "cell_type": "markdown",
      "id": "511584d9-3676-4bbf-a59d-513e781d2516",
      "metadata": {
        "id": "511584d9-3676-4bbf-a59d-513e781d2516"
      },
      "source": [
        "El método `fit_transform()` realiza dos operaciones, entrena un estimador con los datos y luego transforma nuestra matriz de conteo en una representación TF-IDF.\n",
        "\n",
        "Igual que en el caso anterior, si queremos podemos crear una DataFrame con la matriz dispersa generada."
      ]
    },
    {
      "cell_type": "code",
      "execution_count": null,
      "id": "ab3b5985-3e76-434e-8dbe-b22f54639a9c",
      "metadata": {
        "id": "ab3b5985-3e76-434e-8dbe-b22f54639a9c",
        "outputId": "b6810904-06fd-488b-f34a-1cf98b21537b",
        "colab": {
          "base_uri": "https://localhost:8080/",
          "height": 444
        }
      },
      "outputs": [
        {
          "output_type": "execute_result",
          "data": {
            "text/plain": [
              "       00  000  000pes  0089  0121  01223585236  01223585334   02  0207  \\\n",
              "0     0.0  0.0     0.0   0.0   0.0          0.0          0.0  0.0   0.0   \n",
              "1     0.0  0.0     0.0   0.0   0.0          0.0          0.0  0.0   0.0   \n",
              "2     0.0  0.0     0.0   0.0   0.0          0.0          0.0  0.0   0.0   \n",
              "3     0.0  0.0     0.0   0.0   0.0          0.0          0.0  0.0   0.0   \n",
              "4     0.0  0.0     0.0   0.0   0.0          0.0          0.0  0.0   0.0   \n",
              "...   ...  ...     ...   ...   ...          ...          ...  ...   ...   \n",
              "3728  0.0  0.0     0.0   0.0   0.0          0.0          0.0  0.0   0.0   \n",
              "3729  0.0  0.0     0.0   0.0   0.0          0.0          0.0  0.0   0.0   \n",
              "3730  0.0  0.0     0.0   0.0   0.0          0.0          0.0  0.0   0.0   \n",
              "3731  0.0  0.0     0.0   0.0   0.0          0.0          0.0  0.0   0.0   \n",
              "3732  0.0  0.0     0.0   0.0   0.0          0.0          0.0  0.0   0.0   \n",
              "\n",
              "      02072069400  ...  zealand  zebra  zed  zeros  zhong  zoe  zogtorius  \\\n",
              "0             0.0  ...      0.0    0.0  0.0    0.0    0.0  0.0        0.0   \n",
              "1             0.0  ...      0.0    0.0  0.0    0.0    0.0  0.0        0.0   \n",
              "2             0.0  ...      0.0    0.0  0.0    0.0    0.0  0.0        0.0   \n",
              "3             0.0  ...      0.0    0.0  0.0    0.0    0.0  0.0        0.0   \n",
              "4             0.0  ...      0.0    0.0  0.0    0.0    0.0  0.0        0.0   \n",
              "...           ...  ...      ...    ...  ...    ...    ...  ...        ...   \n",
              "3728          0.0  ...      0.0    0.0  0.0    0.0    0.0  0.0        0.0   \n",
              "3729          0.0  ...      0.0    0.0  0.0    0.0    0.0  0.0        0.0   \n",
              "3730          0.0  ...      0.0    0.0  0.0    0.0    0.0  0.0        0.0   \n",
              "3731          0.0  ...      0.0    0.0  0.0    0.0    0.0  0.0        0.0   \n",
              "3732          0.0  ...      0.0    0.0  0.0    0.0    0.0  0.0        0.0   \n",
              "\n",
              "      zoom  zouk   èn  \n",
              "0      0.0   0.0  0.0  \n",
              "1      0.0   0.0  0.0  \n",
              "2      0.0   0.0  0.0  \n",
              "3      0.0   0.0  0.0  \n",
              "4      0.0   0.0  0.0  \n",
              "...    ...   ...  ...  \n",
              "3728   0.0   0.0  0.0  \n",
              "3729   0.0   0.0  0.0  \n",
              "3730   0.0   0.0  0.0  \n",
              "3731   0.0   0.0  0.0  \n",
              "3732   0.0   0.0  0.0  \n",
              "\n",
              "[3733 rows x 7082 columns]"
            ],
            "text/html": [
              "\n",
              "  <div id=\"df-d1bd7e15-fb03-4204-a8c9-3757927ede3a\" class=\"colab-df-container\">\n",
              "    <div>\n",
              "<style scoped>\n",
              "    .dataframe tbody tr th:only-of-type {\n",
              "        vertical-align: middle;\n",
              "    }\n",
              "\n",
              "    .dataframe tbody tr th {\n",
              "        vertical-align: top;\n",
              "    }\n",
              "\n",
              "    .dataframe thead th {\n",
              "        text-align: right;\n",
              "    }\n",
              "</style>\n",
              "<table border=\"1\" class=\"dataframe\">\n",
              "  <thead>\n",
              "    <tr style=\"text-align: right;\">\n",
              "      <th></th>\n",
              "      <th>00</th>\n",
              "      <th>000</th>\n",
              "      <th>000pes</th>\n",
              "      <th>0089</th>\n",
              "      <th>0121</th>\n",
              "      <th>01223585236</th>\n",
              "      <th>01223585334</th>\n",
              "      <th>02</th>\n",
              "      <th>0207</th>\n",
              "      <th>02072069400</th>\n",
              "      <th>...</th>\n",
              "      <th>zealand</th>\n",
              "      <th>zebra</th>\n",
              "      <th>zed</th>\n",
              "      <th>zeros</th>\n",
              "      <th>zhong</th>\n",
              "      <th>zoe</th>\n",
              "      <th>zogtorius</th>\n",
              "      <th>zoom</th>\n",
              "      <th>zouk</th>\n",
              "      <th>èn</th>\n",
              "    </tr>\n",
              "  </thead>\n",
              "  <tbody>\n",
              "    <tr>\n",
              "      <th>0</th>\n",
              "      <td>0.0</td>\n",
              "      <td>0.0</td>\n",
              "      <td>0.0</td>\n",
              "      <td>0.0</td>\n",
              "      <td>0.0</td>\n",
              "      <td>0.0</td>\n",
              "      <td>0.0</td>\n",
              "      <td>0.0</td>\n",
              "      <td>0.0</td>\n",
              "      <td>0.0</td>\n",
              "      <td>...</td>\n",
              "      <td>0.0</td>\n",
              "      <td>0.0</td>\n",
              "      <td>0.0</td>\n",
              "      <td>0.0</td>\n",
              "      <td>0.0</td>\n",
              "      <td>0.0</td>\n",
              "      <td>0.0</td>\n",
              "      <td>0.0</td>\n",
              "      <td>0.0</td>\n",
              "      <td>0.0</td>\n",
              "    </tr>\n",
              "    <tr>\n",
              "      <th>1</th>\n",
              "      <td>0.0</td>\n",
              "      <td>0.0</td>\n",
              "      <td>0.0</td>\n",
              "      <td>0.0</td>\n",
              "      <td>0.0</td>\n",
              "      <td>0.0</td>\n",
              "      <td>0.0</td>\n",
              "      <td>0.0</td>\n",
              "      <td>0.0</td>\n",
              "      <td>0.0</td>\n",
              "      <td>...</td>\n",
              "      <td>0.0</td>\n",
              "      <td>0.0</td>\n",
              "      <td>0.0</td>\n",
              "      <td>0.0</td>\n",
              "      <td>0.0</td>\n",
              "      <td>0.0</td>\n",
              "      <td>0.0</td>\n",
              "      <td>0.0</td>\n",
              "      <td>0.0</td>\n",
              "      <td>0.0</td>\n",
              "    </tr>\n",
              "    <tr>\n",
              "      <th>2</th>\n",
              "      <td>0.0</td>\n",
              "      <td>0.0</td>\n",
              "      <td>0.0</td>\n",
              "      <td>0.0</td>\n",
              "      <td>0.0</td>\n",
              "      <td>0.0</td>\n",
              "      <td>0.0</td>\n",
              "      <td>0.0</td>\n",
              "      <td>0.0</td>\n",
              "      <td>0.0</td>\n",
              "      <td>...</td>\n",
              "      <td>0.0</td>\n",
              "      <td>0.0</td>\n",
              "      <td>0.0</td>\n",
              "      <td>0.0</td>\n",
              "      <td>0.0</td>\n",
              "      <td>0.0</td>\n",
              "      <td>0.0</td>\n",
              "      <td>0.0</td>\n",
              "      <td>0.0</td>\n",
              "      <td>0.0</td>\n",
              "    </tr>\n",
              "    <tr>\n",
              "      <th>3</th>\n",
              "      <td>0.0</td>\n",
              "      <td>0.0</td>\n",
              "      <td>0.0</td>\n",
              "      <td>0.0</td>\n",
              "      <td>0.0</td>\n",
              "      <td>0.0</td>\n",
              "      <td>0.0</td>\n",
              "      <td>0.0</td>\n",
              "      <td>0.0</td>\n",
              "      <td>0.0</td>\n",
              "      <td>...</td>\n",
              "      <td>0.0</td>\n",
              "      <td>0.0</td>\n",
              "      <td>0.0</td>\n",
              "      <td>0.0</td>\n",
              "      <td>0.0</td>\n",
              "      <td>0.0</td>\n",
              "      <td>0.0</td>\n",
              "      <td>0.0</td>\n",
              "      <td>0.0</td>\n",
              "      <td>0.0</td>\n",
              "    </tr>\n",
              "    <tr>\n",
              "      <th>4</th>\n",
              "      <td>0.0</td>\n",
              "      <td>0.0</td>\n",
              "      <td>0.0</td>\n",
              "      <td>0.0</td>\n",
              "      <td>0.0</td>\n",
              "      <td>0.0</td>\n",
              "      <td>0.0</td>\n",
              "      <td>0.0</td>\n",
              "      <td>0.0</td>\n",
              "      <td>0.0</td>\n",
              "      <td>...</td>\n",
              "      <td>0.0</td>\n",
              "      <td>0.0</td>\n",
              "      <td>0.0</td>\n",
              "      <td>0.0</td>\n",
              "      <td>0.0</td>\n",
              "      <td>0.0</td>\n",
              "      <td>0.0</td>\n",
              "      <td>0.0</td>\n",
              "      <td>0.0</td>\n",
              "      <td>0.0</td>\n",
              "    </tr>\n",
              "    <tr>\n",
              "      <th>...</th>\n",
              "      <td>...</td>\n",
              "      <td>...</td>\n",
              "      <td>...</td>\n",
              "      <td>...</td>\n",
              "      <td>...</td>\n",
              "      <td>...</td>\n",
              "      <td>...</td>\n",
              "      <td>...</td>\n",
              "      <td>...</td>\n",
              "      <td>...</td>\n",
              "      <td>...</td>\n",
              "      <td>...</td>\n",
              "      <td>...</td>\n",
              "      <td>...</td>\n",
              "      <td>...</td>\n",
              "      <td>...</td>\n",
              "      <td>...</td>\n",
              "      <td>...</td>\n",
              "      <td>...</td>\n",
              "      <td>...</td>\n",
              "      <td>...</td>\n",
              "    </tr>\n",
              "    <tr>\n",
              "      <th>3728</th>\n",
              "      <td>0.0</td>\n",
              "      <td>0.0</td>\n",
              "      <td>0.0</td>\n",
              "      <td>0.0</td>\n",
              "      <td>0.0</td>\n",
              "      <td>0.0</td>\n",
              "      <td>0.0</td>\n",
              "      <td>0.0</td>\n",
              "      <td>0.0</td>\n",
              "      <td>0.0</td>\n",
              "      <td>...</td>\n",
              "      <td>0.0</td>\n",
              "      <td>0.0</td>\n",
              "      <td>0.0</td>\n",
              "      <td>0.0</td>\n",
              "      <td>0.0</td>\n",
              "      <td>0.0</td>\n",
              "      <td>0.0</td>\n",
              "      <td>0.0</td>\n",
              "      <td>0.0</td>\n",
              "      <td>0.0</td>\n",
              "    </tr>\n",
              "    <tr>\n",
              "      <th>3729</th>\n",
              "      <td>0.0</td>\n",
              "      <td>0.0</td>\n",
              "      <td>0.0</td>\n",
              "      <td>0.0</td>\n",
              "      <td>0.0</td>\n",
              "      <td>0.0</td>\n",
              "      <td>0.0</td>\n",
              "      <td>0.0</td>\n",
              "      <td>0.0</td>\n",
              "      <td>0.0</td>\n",
              "      <td>...</td>\n",
              "      <td>0.0</td>\n",
              "      <td>0.0</td>\n",
              "      <td>0.0</td>\n",
              "      <td>0.0</td>\n",
              "      <td>0.0</td>\n",
              "      <td>0.0</td>\n",
              "      <td>0.0</td>\n",
              "      <td>0.0</td>\n",
              "      <td>0.0</td>\n",
              "      <td>0.0</td>\n",
              "    </tr>\n",
              "    <tr>\n",
              "      <th>3730</th>\n",
              "      <td>0.0</td>\n",
              "      <td>0.0</td>\n",
              "      <td>0.0</td>\n",
              "      <td>0.0</td>\n",
              "      <td>0.0</td>\n",
              "      <td>0.0</td>\n",
              "      <td>0.0</td>\n",
              "      <td>0.0</td>\n",
              "      <td>0.0</td>\n",
              "      <td>0.0</td>\n",
              "      <td>...</td>\n",
              "      <td>0.0</td>\n",
              "      <td>0.0</td>\n",
              "      <td>0.0</td>\n",
              "      <td>0.0</td>\n",
              "      <td>0.0</td>\n",
              "      <td>0.0</td>\n",
              "      <td>0.0</td>\n",
              "      <td>0.0</td>\n",
              "      <td>0.0</td>\n",
              "      <td>0.0</td>\n",
              "    </tr>\n",
              "    <tr>\n",
              "      <th>3731</th>\n",
              "      <td>0.0</td>\n",
              "      <td>0.0</td>\n",
              "      <td>0.0</td>\n",
              "      <td>0.0</td>\n",
              "      <td>0.0</td>\n",
              "      <td>0.0</td>\n",
              "      <td>0.0</td>\n",
              "      <td>0.0</td>\n",
              "      <td>0.0</td>\n",
              "      <td>0.0</td>\n",
              "      <td>...</td>\n",
              "      <td>0.0</td>\n",
              "      <td>0.0</td>\n",
              "      <td>0.0</td>\n",
              "      <td>0.0</td>\n",
              "      <td>0.0</td>\n",
              "      <td>0.0</td>\n",
              "      <td>0.0</td>\n",
              "      <td>0.0</td>\n",
              "      <td>0.0</td>\n",
              "      <td>0.0</td>\n",
              "    </tr>\n",
              "    <tr>\n",
              "      <th>3732</th>\n",
              "      <td>0.0</td>\n",
              "      <td>0.0</td>\n",
              "      <td>0.0</td>\n",
              "      <td>0.0</td>\n",
              "      <td>0.0</td>\n",
              "      <td>0.0</td>\n",
              "      <td>0.0</td>\n",
              "      <td>0.0</td>\n",
              "      <td>0.0</td>\n",
              "      <td>0.0</td>\n",
              "      <td>...</td>\n",
              "      <td>0.0</td>\n",
              "      <td>0.0</td>\n",
              "      <td>0.0</td>\n",
              "      <td>0.0</td>\n",
              "      <td>0.0</td>\n",
              "      <td>0.0</td>\n",
              "      <td>0.0</td>\n",
              "      <td>0.0</td>\n",
              "      <td>0.0</td>\n",
              "      <td>0.0</td>\n",
              "    </tr>\n",
              "  </tbody>\n",
              "</table>\n",
              "<p>3733 rows × 7082 columns</p>\n",
              "</div>\n",
              "    <div class=\"colab-df-buttons\">\n",
              "\n",
              "  <div class=\"colab-df-container\">\n",
              "    <button class=\"colab-df-convert\" onclick=\"convertToInteractive('df-d1bd7e15-fb03-4204-a8c9-3757927ede3a')\"\n",
              "            title=\"Convert this dataframe to an interactive table.\"\n",
              "            style=\"display:none;\">\n",
              "\n",
              "  <svg xmlns=\"http://www.w3.org/2000/svg\" height=\"24px\" viewBox=\"0 -960 960 960\">\n",
              "    <path d=\"M120-120v-720h720v720H120Zm60-500h600v-160H180v160Zm220 220h160v-160H400v160Zm0 220h160v-160H400v160ZM180-400h160v-160H180v160Zm440 0h160v-160H620v160ZM180-180h160v-160H180v160Zm440 0h160v-160H620v160Z\"/>\n",
              "  </svg>\n",
              "    </button>\n",
              "\n",
              "  <style>\n",
              "    .colab-df-container {\n",
              "      display:flex;\n",
              "      gap: 12px;\n",
              "    }\n",
              "\n",
              "    .colab-df-convert {\n",
              "      background-color: #E8F0FE;\n",
              "      border: none;\n",
              "      border-radius: 50%;\n",
              "      cursor: pointer;\n",
              "      display: none;\n",
              "      fill: #1967D2;\n",
              "      height: 32px;\n",
              "      padding: 0 0 0 0;\n",
              "      width: 32px;\n",
              "    }\n",
              "\n",
              "    .colab-df-convert:hover {\n",
              "      background-color: #E2EBFA;\n",
              "      box-shadow: 0px 1px 2px rgba(60, 64, 67, 0.3), 0px 1px 3px 1px rgba(60, 64, 67, 0.15);\n",
              "      fill: #174EA6;\n",
              "    }\n",
              "\n",
              "    .colab-df-buttons div {\n",
              "      margin-bottom: 4px;\n",
              "    }\n",
              "\n",
              "    [theme=dark] .colab-df-convert {\n",
              "      background-color: #3B4455;\n",
              "      fill: #D2E3FC;\n",
              "    }\n",
              "\n",
              "    [theme=dark] .colab-df-convert:hover {\n",
              "      background-color: #434B5C;\n",
              "      box-shadow: 0px 1px 3px 1px rgba(0, 0, 0, 0.15);\n",
              "      filter: drop-shadow(0px 1px 2px rgba(0, 0, 0, 0.3));\n",
              "      fill: #FFFFFF;\n",
              "    }\n",
              "  </style>\n",
              "\n",
              "    <script>\n",
              "      const buttonEl =\n",
              "        document.querySelector('#df-d1bd7e15-fb03-4204-a8c9-3757927ede3a button.colab-df-convert');\n",
              "      buttonEl.style.display =\n",
              "        google.colab.kernel.accessAllowed ? 'block' : 'none';\n",
              "\n",
              "      async function convertToInteractive(key) {\n",
              "        const element = document.querySelector('#df-d1bd7e15-fb03-4204-a8c9-3757927ede3a');\n",
              "        const dataTable =\n",
              "          await google.colab.kernel.invokeFunction('convertToInteractive',\n",
              "                                                    [key], {});\n",
              "        if (!dataTable) return;\n",
              "\n",
              "        const docLinkHtml = 'Like what you see? Visit the ' +\n",
              "          '<a target=\"_blank\" href=https://colab.research.google.com/notebooks/data_table.ipynb>data table notebook</a>'\n",
              "          + ' to learn more about interactive tables.';\n",
              "        element.innerHTML = '';\n",
              "        dataTable['output_type'] = 'display_data';\n",
              "        await google.colab.output.renderOutput(dataTable, element);\n",
              "        const docLink = document.createElement('div');\n",
              "        docLink.innerHTML = docLinkHtml;\n",
              "        element.appendChild(docLink);\n",
              "      }\n",
              "    </script>\n",
              "  </div>\n",
              "\n",
              "\n",
              "<div id=\"df-792ee9b8-7d7c-48f1-8476-b284e9bb08d0\">\n",
              "  <button class=\"colab-df-quickchart\" onclick=\"quickchart('df-792ee9b8-7d7c-48f1-8476-b284e9bb08d0')\"\n",
              "            title=\"Suggest charts\"\n",
              "            style=\"display:none;\">\n",
              "\n",
              "<svg xmlns=\"http://www.w3.org/2000/svg\" height=\"24px\"viewBox=\"0 0 24 24\"\n",
              "     width=\"24px\">\n",
              "    <g>\n",
              "        <path d=\"M19 3H5c-1.1 0-2 .9-2 2v14c0 1.1.9 2 2 2h14c1.1 0 2-.9 2-2V5c0-1.1-.9-2-2-2zM9 17H7v-7h2v7zm4 0h-2V7h2v10zm4 0h-2v-4h2v4z\"/>\n",
              "    </g>\n",
              "</svg>\n",
              "  </button>\n",
              "\n",
              "<style>\n",
              "  .colab-df-quickchart {\n",
              "      --bg-color: #E8F0FE;\n",
              "      --fill-color: #1967D2;\n",
              "      --hover-bg-color: #E2EBFA;\n",
              "      --hover-fill-color: #174EA6;\n",
              "      --disabled-fill-color: #AAA;\n",
              "      --disabled-bg-color: #DDD;\n",
              "  }\n",
              "\n",
              "  [theme=dark] .colab-df-quickchart {\n",
              "      --bg-color: #3B4455;\n",
              "      --fill-color: #D2E3FC;\n",
              "      --hover-bg-color: #434B5C;\n",
              "      --hover-fill-color: #FFFFFF;\n",
              "      --disabled-bg-color: #3B4455;\n",
              "      --disabled-fill-color: #666;\n",
              "  }\n",
              "\n",
              "  .colab-df-quickchart {\n",
              "    background-color: var(--bg-color);\n",
              "    border: none;\n",
              "    border-radius: 50%;\n",
              "    cursor: pointer;\n",
              "    display: none;\n",
              "    fill: var(--fill-color);\n",
              "    height: 32px;\n",
              "    padding: 0;\n",
              "    width: 32px;\n",
              "  }\n",
              "\n",
              "  .colab-df-quickchart:hover {\n",
              "    background-color: var(--hover-bg-color);\n",
              "    box-shadow: 0 1px 2px rgba(60, 64, 67, 0.3), 0 1px 3px 1px rgba(60, 64, 67, 0.15);\n",
              "    fill: var(--button-hover-fill-color);\n",
              "  }\n",
              "\n",
              "  .colab-df-quickchart-complete:disabled,\n",
              "  .colab-df-quickchart-complete:disabled:hover {\n",
              "    background-color: var(--disabled-bg-color);\n",
              "    fill: var(--disabled-fill-color);\n",
              "    box-shadow: none;\n",
              "  }\n",
              "\n",
              "  .colab-df-spinner {\n",
              "    border: 2px solid var(--fill-color);\n",
              "    border-color: transparent;\n",
              "    border-bottom-color: var(--fill-color);\n",
              "    animation:\n",
              "      spin 1s steps(1) infinite;\n",
              "  }\n",
              "\n",
              "  @keyframes spin {\n",
              "    0% {\n",
              "      border-color: transparent;\n",
              "      border-bottom-color: var(--fill-color);\n",
              "      border-left-color: var(--fill-color);\n",
              "    }\n",
              "    20% {\n",
              "      border-color: transparent;\n",
              "      border-left-color: var(--fill-color);\n",
              "      border-top-color: var(--fill-color);\n",
              "    }\n",
              "    30% {\n",
              "      border-color: transparent;\n",
              "      border-left-color: var(--fill-color);\n",
              "      border-top-color: var(--fill-color);\n",
              "      border-right-color: var(--fill-color);\n",
              "    }\n",
              "    40% {\n",
              "      border-color: transparent;\n",
              "      border-right-color: var(--fill-color);\n",
              "      border-top-color: var(--fill-color);\n",
              "    }\n",
              "    60% {\n",
              "      border-color: transparent;\n",
              "      border-right-color: var(--fill-color);\n",
              "    }\n",
              "    80% {\n",
              "      border-color: transparent;\n",
              "      border-right-color: var(--fill-color);\n",
              "      border-bottom-color: var(--fill-color);\n",
              "    }\n",
              "    90% {\n",
              "      border-color: transparent;\n",
              "      border-bottom-color: var(--fill-color);\n",
              "    }\n",
              "  }\n",
              "</style>\n",
              "\n",
              "  <script>\n",
              "    async function quickchart(key) {\n",
              "      const quickchartButtonEl =\n",
              "        document.querySelector('#' + key + ' button');\n",
              "      quickchartButtonEl.disabled = true;  // To prevent multiple clicks.\n",
              "      quickchartButtonEl.classList.add('colab-df-spinner');\n",
              "      try {\n",
              "        const charts = await google.colab.kernel.invokeFunction(\n",
              "            'suggestCharts', [key], {});\n",
              "      } catch (error) {\n",
              "        console.error('Error during call to suggestCharts:', error);\n",
              "      }\n",
              "      quickchartButtonEl.classList.remove('colab-df-spinner');\n",
              "      quickchartButtonEl.classList.add('colab-df-quickchart-complete');\n",
              "    }\n",
              "    (() => {\n",
              "      let quickchartButtonEl =\n",
              "        document.querySelector('#df-792ee9b8-7d7c-48f1-8476-b284e9bb08d0 button');\n",
              "      quickchartButtonEl.style.display =\n",
              "        google.colab.kernel.accessAllowed ? 'block' : 'none';\n",
              "    })();\n",
              "  </script>\n",
              "</div>\n",
              "    </div>\n",
              "  </div>\n"
            ],
            "application/vnd.google.colaboratory.intrinsic+json": {
              "type": "dataframe",
              "variable_name": "X_train_tfidf_df"
            }
          },
          "metadata": {},
          "execution_count": 30
        }
      ],
      "source": [
        "# Convertimos la matriz dispersa en un DataFrame\n",
        "X_train_tfidf_df = pd.DataFrame.sparse.from_spmatrix(X_train_tfidf,\n",
        "                                                     columns=count_vect.get_feature_names_out())\n",
        "\n",
        "X_train_tfidf_df"
      ]
    },
    {
      "cell_type": "code",
      "execution_count": null,
      "id": "dd71e71d-5d87-403b-b86c-b28b232f587a",
      "metadata": {
        "id": "dd71e71d-5d87-403b-b86c-b28b232f587a",
        "outputId": "9d95877a-68c6-4256-e17c-bd2cf17d19c6",
        "colab": {
          "base_uri": "https://localhost:8080/",
          "height": 53
        }
      },
      "outputs": [
        {
          "output_type": "execute_result",
          "data": {
            "text/plain": [
              "'I sent my scores to sophas and i had to do secondary application for a few schools. I think if you are thinking of applying, do a research on cost also. Contact joke ogunrinde, her school is one me the less expensive ones'"
            ],
            "application/vnd.google.colaboratory.intrinsic+json": {
              "type": "string"
            }
          },
          "metadata": {},
          "execution_count": 31
        }
      ],
      "source": [
        "X_train.iloc[1]"
      ]
    },
    {
      "cell_type": "code",
      "execution_count": null,
      "id": "84d1da5b-ce2f-453e-8ba9-62082f3ad5af",
      "metadata": {
        "id": "84d1da5b-ce2f-453e-8ba9-62082f3ad5af",
        "outputId": "98f7950b-898c-477d-b53b-0dd205f2f015",
        "colab": {
          "base_uri": "https://localhost:8080/"
        }
      },
      "outputs": [
        {
          "output_type": "execute_result",
          "data": {
            "text/plain": [
              "0.12175375951774331"
            ]
          },
          "metadata": {},
          "execution_count": 32
        }
      ],
      "source": [
        "X_train_tfidf_df.loc[1, 'to']"
      ]
    },
    {
      "cell_type": "markdown",
      "id": "53d1cbe3-953a-49cb-81b5-7b61dd788451",
      "metadata": {
        "id": "53d1cbe3-953a-49cb-81b5-7b61dd788451"
      },
      "source": [
        "Podemos combinar los pasos de `CountVectorizer` y `TfidTransformer` en uno usando [`TfidVectorizer`](https://scikit-learn.org/stable/modules/generated/sklearn.feature_extraction.text.TfidfVectorizer.html).\n",
        "\n",
        "En este caso también se crea una DTM del corpus, pero en vez de rellenarla con un conteo de los tokens que aparecen en cada documento directamente calcula la puntuación TF-IDF para cada palabra."
      ]
    },
    {
      "cell_type": "code",
      "execution_count": null,
      "id": "1b822c05-6c14-49d8-a4c1-4fc1d0185ff8",
      "metadata": {
        "id": "1b822c05-6c14-49d8-a4c1-4fc1d0185ff8"
      },
      "outputs": [],
      "source": [
        "from sklearn.feature_extraction.text import TfidfVectorizer"
      ]
    },
    {
      "cell_type": "code",
      "execution_count": null,
      "id": "4e3fd479-af04-48a0-9122-44f8fe487f75",
      "metadata": {
        "id": "4e3fd479-af04-48a0-9122-44f8fe487f75",
        "outputId": "7e75d0c6-d20a-4af4-bf72-bf119530e623",
        "colab": {
          "base_uri": "https://localhost:8080/"
        }
      },
      "outputs": [
        {
          "output_type": "execute_result",
          "data": {
            "text/plain": [
              "(3733, 7082)"
            ]
          },
          "metadata": {},
          "execution_count": 34
        }
      ],
      "source": [
        "vectorizer = TfidfVectorizer()\n",
        "\n",
        "X_train_tfidf = vectorizer.fit_transform(X_train)\n",
        "X_train_tfidf.shape"
      ]
    },
    {
      "cell_type": "code",
      "execution_count": null,
      "id": "f69172a9-e374-4fb3-b870-134fa5ad4bd4",
      "metadata": {
        "id": "f69172a9-e374-4fb3-b870-134fa5ad4bd4",
        "outputId": "cff77853-115b-4233-b581-1325b0a0771a",
        "colab": {
          "base_uri": "https://localhost:8080/"
        }
      },
      "outputs": [
        {
          "output_type": "execute_result",
          "data": {
            "text/plain": [
              "<3733x7082 sparse matrix of type '<class 'numpy.float64'>'\n",
              "\twith 49992 stored elements in Compressed Sparse Row format>"
            ]
          },
          "metadata": {},
          "execution_count": 35
        }
      ],
      "source": [
        "X_train_tfidf"
      ]
    },
    {
      "cell_type": "code",
      "execution_count": null,
      "id": "4833c0a2-4574-4b07-addc-ab62de719dca",
      "metadata": {
        "id": "4833c0a2-4574-4b07-addc-ab62de719dca",
        "outputId": "a834d291-835e-4e37-8969-eecff2269220",
        "colab": {
          "base_uri": "https://localhost:8080/",
          "height": 444
        }
      },
      "outputs": [
        {
          "output_type": "execute_result",
          "data": {
            "text/plain": [
              "       00  000  000pes  0089  0121  01223585236  01223585334   02  0207  \\\n",
              "0     0.0  0.0     0.0   0.0   0.0          0.0          0.0  0.0   0.0   \n",
              "1     0.0  0.0     0.0   0.0   0.0          0.0          0.0  0.0   0.0   \n",
              "2     0.0  0.0     0.0   0.0   0.0          0.0          0.0  0.0   0.0   \n",
              "3     0.0  0.0     0.0   0.0   0.0          0.0          0.0  0.0   0.0   \n",
              "4     0.0  0.0     0.0   0.0   0.0          0.0          0.0  0.0   0.0   \n",
              "...   ...  ...     ...   ...   ...          ...          ...  ...   ...   \n",
              "3728  0.0  0.0     0.0   0.0   0.0          0.0          0.0  0.0   0.0   \n",
              "3729  0.0  0.0     0.0   0.0   0.0          0.0          0.0  0.0   0.0   \n",
              "3730  0.0  0.0     0.0   0.0   0.0          0.0          0.0  0.0   0.0   \n",
              "3731  0.0  0.0     0.0   0.0   0.0          0.0          0.0  0.0   0.0   \n",
              "3732  0.0  0.0     0.0   0.0   0.0          0.0          0.0  0.0   0.0   \n",
              "\n",
              "      02072069400  ...  zealand  zebra  zed  zeros  zhong  zoe  zogtorius  \\\n",
              "0             0.0  ...      0.0    0.0  0.0    0.0    0.0  0.0        0.0   \n",
              "1             0.0  ...      0.0    0.0  0.0    0.0    0.0  0.0        0.0   \n",
              "2             0.0  ...      0.0    0.0  0.0    0.0    0.0  0.0        0.0   \n",
              "3             0.0  ...      0.0    0.0  0.0    0.0    0.0  0.0        0.0   \n",
              "4             0.0  ...      0.0    0.0  0.0    0.0    0.0  0.0        0.0   \n",
              "...           ...  ...      ...    ...  ...    ...    ...  ...        ...   \n",
              "3728          0.0  ...      0.0    0.0  0.0    0.0    0.0  0.0        0.0   \n",
              "3729          0.0  ...      0.0    0.0  0.0    0.0    0.0  0.0        0.0   \n",
              "3730          0.0  ...      0.0    0.0  0.0    0.0    0.0  0.0        0.0   \n",
              "3731          0.0  ...      0.0    0.0  0.0    0.0    0.0  0.0        0.0   \n",
              "3732          0.0  ...      0.0    0.0  0.0    0.0    0.0  0.0        0.0   \n",
              "\n",
              "      zoom  zouk   èn  \n",
              "0      0.0   0.0  0.0  \n",
              "1      0.0   0.0  0.0  \n",
              "2      0.0   0.0  0.0  \n",
              "3      0.0   0.0  0.0  \n",
              "4      0.0   0.0  0.0  \n",
              "...    ...   ...  ...  \n",
              "3728   0.0   0.0  0.0  \n",
              "3729   0.0   0.0  0.0  \n",
              "3730   0.0   0.0  0.0  \n",
              "3731   0.0   0.0  0.0  \n",
              "3732   0.0   0.0  0.0  \n",
              "\n",
              "[3733 rows x 7082 columns]"
            ],
            "text/html": [
              "\n",
              "  <div id=\"df-3cee740b-70fa-4f75-b0f8-56db5c0c54cd\" class=\"colab-df-container\">\n",
              "    <div>\n",
              "<style scoped>\n",
              "    .dataframe tbody tr th:only-of-type {\n",
              "        vertical-align: middle;\n",
              "    }\n",
              "\n",
              "    .dataframe tbody tr th {\n",
              "        vertical-align: top;\n",
              "    }\n",
              "\n",
              "    .dataframe thead th {\n",
              "        text-align: right;\n",
              "    }\n",
              "</style>\n",
              "<table border=\"1\" class=\"dataframe\">\n",
              "  <thead>\n",
              "    <tr style=\"text-align: right;\">\n",
              "      <th></th>\n",
              "      <th>00</th>\n",
              "      <th>000</th>\n",
              "      <th>000pes</th>\n",
              "      <th>0089</th>\n",
              "      <th>0121</th>\n",
              "      <th>01223585236</th>\n",
              "      <th>01223585334</th>\n",
              "      <th>02</th>\n",
              "      <th>0207</th>\n",
              "      <th>02072069400</th>\n",
              "      <th>...</th>\n",
              "      <th>zealand</th>\n",
              "      <th>zebra</th>\n",
              "      <th>zed</th>\n",
              "      <th>zeros</th>\n",
              "      <th>zhong</th>\n",
              "      <th>zoe</th>\n",
              "      <th>zogtorius</th>\n",
              "      <th>zoom</th>\n",
              "      <th>zouk</th>\n",
              "      <th>èn</th>\n",
              "    </tr>\n",
              "  </thead>\n",
              "  <tbody>\n",
              "    <tr>\n",
              "      <th>0</th>\n",
              "      <td>0.0</td>\n",
              "      <td>0.0</td>\n",
              "      <td>0.0</td>\n",
              "      <td>0.0</td>\n",
              "      <td>0.0</td>\n",
              "      <td>0.0</td>\n",
              "      <td>0.0</td>\n",
              "      <td>0.0</td>\n",
              "      <td>0.0</td>\n",
              "      <td>0.0</td>\n",
              "      <td>...</td>\n",
              "      <td>0.0</td>\n",
              "      <td>0.0</td>\n",
              "      <td>0.0</td>\n",
              "      <td>0.0</td>\n",
              "      <td>0.0</td>\n",
              "      <td>0.0</td>\n",
              "      <td>0.0</td>\n",
              "      <td>0.0</td>\n",
              "      <td>0.0</td>\n",
              "      <td>0.0</td>\n",
              "    </tr>\n",
              "    <tr>\n",
              "      <th>1</th>\n",
              "      <td>0.0</td>\n",
              "      <td>0.0</td>\n",
              "      <td>0.0</td>\n",
              "      <td>0.0</td>\n",
              "      <td>0.0</td>\n",
              "      <td>0.0</td>\n",
              "      <td>0.0</td>\n",
              "      <td>0.0</td>\n",
              "      <td>0.0</td>\n",
              "      <td>0.0</td>\n",
              "      <td>...</td>\n",
              "      <td>0.0</td>\n",
              "      <td>0.0</td>\n",
              "      <td>0.0</td>\n",
              "      <td>0.0</td>\n",
              "      <td>0.0</td>\n",
              "      <td>0.0</td>\n",
              "      <td>0.0</td>\n",
              "      <td>0.0</td>\n",
              "      <td>0.0</td>\n",
              "      <td>0.0</td>\n",
              "    </tr>\n",
              "    <tr>\n",
              "      <th>2</th>\n",
              "      <td>0.0</td>\n",
              "      <td>0.0</td>\n",
              "      <td>0.0</td>\n",
              "      <td>0.0</td>\n",
              "      <td>0.0</td>\n",
              "      <td>0.0</td>\n",
              "      <td>0.0</td>\n",
              "      <td>0.0</td>\n",
              "      <td>0.0</td>\n",
              "      <td>0.0</td>\n",
              "      <td>...</td>\n",
              "      <td>0.0</td>\n",
              "      <td>0.0</td>\n",
              "      <td>0.0</td>\n",
              "      <td>0.0</td>\n",
              "      <td>0.0</td>\n",
              "      <td>0.0</td>\n",
              "      <td>0.0</td>\n",
              "      <td>0.0</td>\n",
              "      <td>0.0</td>\n",
              "      <td>0.0</td>\n",
              "    </tr>\n",
              "    <tr>\n",
              "      <th>3</th>\n",
              "      <td>0.0</td>\n",
              "      <td>0.0</td>\n",
              "      <td>0.0</td>\n",
              "      <td>0.0</td>\n",
              "      <td>0.0</td>\n",
              "      <td>0.0</td>\n",
              "      <td>0.0</td>\n",
              "      <td>0.0</td>\n",
              "      <td>0.0</td>\n",
              "      <td>0.0</td>\n",
              "      <td>...</td>\n",
              "      <td>0.0</td>\n",
              "      <td>0.0</td>\n",
              "      <td>0.0</td>\n",
              "      <td>0.0</td>\n",
              "      <td>0.0</td>\n",
              "      <td>0.0</td>\n",
              "      <td>0.0</td>\n",
              "      <td>0.0</td>\n",
              "      <td>0.0</td>\n",
              "      <td>0.0</td>\n",
              "    </tr>\n",
              "    <tr>\n",
              "      <th>4</th>\n",
              "      <td>0.0</td>\n",
              "      <td>0.0</td>\n",
              "      <td>0.0</td>\n",
              "      <td>0.0</td>\n",
              "      <td>0.0</td>\n",
              "      <td>0.0</td>\n",
              "      <td>0.0</td>\n",
              "      <td>0.0</td>\n",
              "      <td>0.0</td>\n",
              "      <td>0.0</td>\n",
              "      <td>...</td>\n",
              "      <td>0.0</td>\n",
              "      <td>0.0</td>\n",
              "      <td>0.0</td>\n",
              "      <td>0.0</td>\n",
              "      <td>0.0</td>\n",
              "      <td>0.0</td>\n",
              "      <td>0.0</td>\n",
              "      <td>0.0</td>\n",
              "      <td>0.0</td>\n",
              "      <td>0.0</td>\n",
              "    </tr>\n",
              "    <tr>\n",
              "      <th>...</th>\n",
              "      <td>...</td>\n",
              "      <td>...</td>\n",
              "      <td>...</td>\n",
              "      <td>...</td>\n",
              "      <td>...</td>\n",
              "      <td>...</td>\n",
              "      <td>...</td>\n",
              "      <td>...</td>\n",
              "      <td>...</td>\n",
              "      <td>...</td>\n",
              "      <td>...</td>\n",
              "      <td>...</td>\n",
              "      <td>...</td>\n",
              "      <td>...</td>\n",
              "      <td>...</td>\n",
              "      <td>...</td>\n",
              "      <td>...</td>\n",
              "      <td>...</td>\n",
              "      <td>...</td>\n",
              "      <td>...</td>\n",
              "      <td>...</td>\n",
              "    </tr>\n",
              "    <tr>\n",
              "      <th>3728</th>\n",
              "      <td>0.0</td>\n",
              "      <td>0.0</td>\n",
              "      <td>0.0</td>\n",
              "      <td>0.0</td>\n",
              "      <td>0.0</td>\n",
              "      <td>0.0</td>\n",
              "      <td>0.0</td>\n",
              "      <td>0.0</td>\n",
              "      <td>0.0</td>\n",
              "      <td>0.0</td>\n",
              "      <td>...</td>\n",
              "      <td>0.0</td>\n",
              "      <td>0.0</td>\n",
              "      <td>0.0</td>\n",
              "      <td>0.0</td>\n",
              "      <td>0.0</td>\n",
              "      <td>0.0</td>\n",
              "      <td>0.0</td>\n",
              "      <td>0.0</td>\n",
              "      <td>0.0</td>\n",
              "      <td>0.0</td>\n",
              "    </tr>\n",
              "    <tr>\n",
              "      <th>3729</th>\n",
              "      <td>0.0</td>\n",
              "      <td>0.0</td>\n",
              "      <td>0.0</td>\n",
              "      <td>0.0</td>\n",
              "      <td>0.0</td>\n",
              "      <td>0.0</td>\n",
              "      <td>0.0</td>\n",
              "      <td>0.0</td>\n",
              "      <td>0.0</td>\n",
              "      <td>0.0</td>\n",
              "      <td>...</td>\n",
              "      <td>0.0</td>\n",
              "      <td>0.0</td>\n",
              "      <td>0.0</td>\n",
              "      <td>0.0</td>\n",
              "      <td>0.0</td>\n",
              "      <td>0.0</td>\n",
              "      <td>0.0</td>\n",
              "      <td>0.0</td>\n",
              "      <td>0.0</td>\n",
              "      <td>0.0</td>\n",
              "    </tr>\n",
              "    <tr>\n",
              "      <th>3730</th>\n",
              "      <td>0.0</td>\n",
              "      <td>0.0</td>\n",
              "      <td>0.0</td>\n",
              "      <td>0.0</td>\n",
              "      <td>0.0</td>\n",
              "      <td>0.0</td>\n",
              "      <td>0.0</td>\n",
              "      <td>0.0</td>\n",
              "      <td>0.0</td>\n",
              "      <td>0.0</td>\n",
              "      <td>...</td>\n",
              "      <td>0.0</td>\n",
              "      <td>0.0</td>\n",
              "      <td>0.0</td>\n",
              "      <td>0.0</td>\n",
              "      <td>0.0</td>\n",
              "      <td>0.0</td>\n",
              "      <td>0.0</td>\n",
              "      <td>0.0</td>\n",
              "      <td>0.0</td>\n",
              "      <td>0.0</td>\n",
              "    </tr>\n",
              "    <tr>\n",
              "      <th>3731</th>\n",
              "      <td>0.0</td>\n",
              "      <td>0.0</td>\n",
              "      <td>0.0</td>\n",
              "      <td>0.0</td>\n",
              "      <td>0.0</td>\n",
              "      <td>0.0</td>\n",
              "      <td>0.0</td>\n",
              "      <td>0.0</td>\n",
              "      <td>0.0</td>\n",
              "      <td>0.0</td>\n",
              "      <td>...</td>\n",
              "      <td>0.0</td>\n",
              "      <td>0.0</td>\n",
              "      <td>0.0</td>\n",
              "      <td>0.0</td>\n",
              "      <td>0.0</td>\n",
              "      <td>0.0</td>\n",
              "      <td>0.0</td>\n",
              "      <td>0.0</td>\n",
              "      <td>0.0</td>\n",
              "      <td>0.0</td>\n",
              "    </tr>\n",
              "    <tr>\n",
              "      <th>3732</th>\n",
              "      <td>0.0</td>\n",
              "      <td>0.0</td>\n",
              "      <td>0.0</td>\n",
              "      <td>0.0</td>\n",
              "      <td>0.0</td>\n",
              "      <td>0.0</td>\n",
              "      <td>0.0</td>\n",
              "      <td>0.0</td>\n",
              "      <td>0.0</td>\n",
              "      <td>0.0</td>\n",
              "      <td>...</td>\n",
              "      <td>0.0</td>\n",
              "      <td>0.0</td>\n",
              "      <td>0.0</td>\n",
              "      <td>0.0</td>\n",
              "      <td>0.0</td>\n",
              "      <td>0.0</td>\n",
              "      <td>0.0</td>\n",
              "      <td>0.0</td>\n",
              "      <td>0.0</td>\n",
              "      <td>0.0</td>\n",
              "    </tr>\n",
              "  </tbody>\n",
              "</table>\n",
              "<p>3733 rows × 7082 columns</p>\n",
              "</div>\n",
              "    <div class=\"colab-df-buttons\">\n",
              "\n",
              "  <div class=\"colab-df-container\">\n",
              "    <button class=\"colab-df-convert\" onclick=\"convertToInteractive('df-3cee740b-70fa-4f75-b0f8-56db5c0c54cd')\"\n",
              "            title=\"Convert this dataframe to an interactive table.\"\n",
              "            style=\"display:none;\">\n",
              "\n",
              "  <svg xmlns=\"http://www.w3.org/2000/svg\" height=\"24px\" viewBox=\"0 -960 960 960\">\n",
              "    <path d=\"M120-120v-720h720v720H120Zm60-500h600v-160H180v160Zm220 220h160v-160H400v160Zm0 220h160v-160H400v160ZM180-400h160v-160H180v160Zm440 0h160v-160H620v160ZM180-180h160v-160H180v160Zm440 0h160v-160H620v160Z\"/>\n",
              "  </svg>\n",
              "    </button>\n",
              "\n",
              "  <style>\n",
              "    .colab-df-container {\n",
              "      display:flex;\n",
              "      gap: 12px;\n",
              "    }\n",
              "\n",
              "    .colab-df-convert {\n",
              "      background-color: #E8F0FE;\n",
              "      border: none;\n",
              "      border-radius: 50%;\n",
              "      cursor: pointer;\n",
              "      display: none;\n",
              "      fill: #1967D2;\n",
              "      height: 32px;\n",
              "      padding: 0 0 0 0;\n",
              "      width: 32px;\n",
              "    }\n",
              "\n",
              "    .colab-df-convert:hover {\n",
              "      background-color: #E2EBFA;\n",
              "      box-shadow: 0px 1px 2px rgba(60, 64, 67, 0.3), 0px 1px 3px 1px rgba(60, 64, 67, 0.15);\n",
              "      fill: #174EA6;\n",
              "    }\n",
              "\n",
              "    .colab-df-buttons div {\n",
              "      margin-bottom: 4px;\n",
              "    }\n",
              "\n",
              "    [theme=dark] .colab-df-convert {\n",
              "      background-color: #3B4455;\n",
              "      fill: #D2E3FC;\n",
              "    }\n",
              "\n",
              "    [theme=dark] .colab-df-convert:hover {\n",
              "      background-color: #434B5C;\n",
              "      box-shadow: 0px 1px 3px 1px rgba(0, 0, 0, 0.15);\n",
              "      filter: drop-shadow(0px 1px 2px rgba(0, 0, 0, 0.3));\n",
              "      fill: #FFFFFF;\n",
              "    }\n",
              "  </style>\n",
              "\n",
              "    <script>\n",
              "      const buttonEl =\n",
              "        document.querySelector('#df-3cee740b-70fa-4f75-b0f8-56db5c0c54cd button.colab-df-convert');\n",
              "      buttonEl.style.display =\n",
              "        google.colab.kernel.accessAllowed ? 'block' : 'none';\n",
              "\n",
              "      async function convertToInteractive(key) {\n",
              "        const element = document.querySelector('#df-3cee740b-70fa-4f75-b0f8-56db5c0c54cd');\n",
              "        const dataTable =\n",
              "          await google.colab.kernel.invokeFunction('convertToInteractive',\n",
              "                                                    [key], {});\n",
              "        if (!dataTable) return;\n",
              "\n",
              "        const docLinkHtml = 'Like what you see? Visit the ' +\n",
              "          '<a target=\"_blank\" href=https://colab.research.google.com/notebooks/data_table.ipynb>data table notebook</a>'\n",
              "          + ' to learn more about interactive tables.';\n",
              "        element.innerHTML = '';\n",
              "        dataTable['output_type'] = 'display_data';\n",
              "        await google.colab.output.renderOutput(dataTable, element);\n",
              "        const docLink = document.createElement('div');\n",
              "        docLink.innerHTML = docLinkHtml;\n",
              "        element.appendChild(docLink);\n",
              "      }\n",
              "    </script>\n",
              "  </div>\n",
              "\n",
              "\n",
              "<div id=\"df-8bb95668-ae82-45d8-9d91-e4123c08d4ed\">\n",
              "  <button class=\"colab-df-quickchart\" onclick=\"quickchart('df-8bb95668-ae82-45d8-9d91-e4123c08d4ed')\"\n",
              "            title=\"Suggest charts\"\n",
              "            style=\"display:none;\">\n",
              "\n",
              "<svg xmlns=\"http://www.w3.org/2000/svg\" height=\"24px\"viewBox=\"0 0 24 24\"\n",
              "     width=\"24px\">\n",
              "    <g>\n",
              "        <path d=\"M19 3H5c-1.1 0-2 .9-2 2v14c0 1.1.9 2 2 2h14c1.1 0 2-.9 2-2V5c0-1.1-.9-2-2-2zM9 17H7v-7h2v7zm4 0h-2V7h2v10zm4 0h-2v-4h2v4z\"/>\n",
              "    </g>\n",
              "</svg>\n",
              "  </button>\n",
              "\n",
              "<style>\n",
              "  .colab-df-quickchart {\n",
              "      --bg-color: #E8F0FE;\n",
              "      --fill-color: #1967D2;\n",
              "      --hover-bg-color: #E2EBFA;\n",
              "      --hover-fill-color: #174EA6;\n",
              "      --disabled-fill-color: #AAA;\n",
              "      --disabled-bg-color: #DDD;\n",
              "  }\n",
              "\n",
              "  [theme=dark] .colab-df-quickchart {\n",
              "      --bg-color: #3B4455;\n",
              "      --fill-color: #D2E3FC;\n",
              "      --hover-bg-color: #434B5C;\n",
              "      --hover-fill-color: #FFFFFF;\n",
              "      --disabled-bg-color: #3B4455;\n",
              "      --disabled-fill-color: #666;\n",
              "  }\n",
              "\n",
              "  .colab-df-quickchart {\n",
              "    background-color: var(--bg-color);\n",
              "    border: none;\n",
              "    border-radius: 50%;\n",
              "    cursor: pointer;\n",
              "    display: none;\n",
              "    fill: var(--fill-color);\n",
              "    height: 32px;\n",
              "    padding: 0;\n",
              "    width: 32px;\n",
              "  }\n",
              "\n",
              "  .colab-df-quickchart:hover {\n",
              "    background-color: var(--hover-bg-color);\n",
              "    box-shadow: 0 1px 2px rgba(60, 64, 67, 0.3), 0 1px 3px 1px rgba(60, 64, 67, 0.15);\n",
              "    fill: var(--button-hover-fill-color);\n",
              "  }\n",
              "\n",
              "  .colab-df-quickchart-complete:disabled,\n",
              "  .colab-df-quickchart-complete:disabled:hover {\n",
              "    background-color: var(--disabled-bg-color);\n",
              "    fill: var(--disabled-fill-color);\n",
              "    box-shadow: none;\n",
              "  }\n",
              "\n",
              "  .colab-df-spinner {\n",
              "    border: 2px solid var(--fill-color);\n",
              "    border-color: transparent;\n",
              "    border-bottom-color: var(--fill-color);\n",
              "    animation:\n",
              "      spin 1s steps(1) infinite;\n",
              "  }\n",
              "\n",
              "  @keyframes spin {\n",
              "    0% {\n",
              "      border-color: transparent;\n",
              "      border-bottom-color: var(--fill-color);\n",
              "      border-left-color: var(--fill-color);\n",
              "    }\n",
              "    20% {\n",
              "      border-color: transparent;\n",
              "      border-left-color: var(--fill-color);\n",
              "      border-top-color: var(--fill-color);\n",
              "    }\n",
              "    30% {\n",
              "      border-color: transparent;\n",
              "      border-left-color: var(--fill-color);\n",
              "      border-top-color: var(--fill-color);\n",
              "      border-right-color: var(--fill-color);\n",
              "    }\n",
              "    40% {\n",
              "      border-color: transparent;\n",
              "      border-right-color: var(--fill-color);\n",
              "      border-top-color: var(--fill-color);\n",
              "    }\n",
              "    60% {\n",
              "      border-color: transparent;\n",
              "      border-right-color: var(--fill-color);\n",
              "    }\n",
              "    80% {\n",
              "      border-color: transparent;\n",
              "      border-right-color: var(--fill-color);\n",
              "      border-bottom-color: var(--fill-color);\n",
              "    }\n",
              "    90% {\n",
              "      border-color: transparent;\n",
              "      border-bottom-color: var(--fill-color);\n",
              "    }\n",
              "  }\n",
              "</style>\n",
              "\n",
              "  <script>\n",
              "    async function quickchart(key) {\n",
              "      const quickchartButtonEl =\n",
              "        document.querySelector('#' + key + ' button');\n",
              "      quickchartButtonEl.disabled = true;  // To prevent multiple clicks.\n",
              "      quickchartButtonEl.classList.add('colab-df-spinner');\n",
              "      try {\n",
              "        const charts = await google.colab.kernel.invokeFunction(\n",
              "            'suggestCharts', [key], {});\n",
              "      } catch (error) {\n",
              "        console.error('Error during call to suggestCharts:', error);\n",
              "      }\n",
              "      quickchartButtonEl.classList.remove('colab-df-spinner');\n",
              "      quickchartButtonEl.classList.add('colab-df-quickchart-complete');\n",
              "    }\n",
              "    (() => {\n",
              "      let quickchartButtonEl =\n",
              "        document.querySelector('#df-8bb95668-ae82-45d8-9d91-e4123c08d4ed button');\n",
              "      quickchartButtonEl.style.display =\n",
              "        google.colab.kernel.accessAllowed ? 'block' : 'none';\n",
              "    })();\n",
              "  </script>\n",
              "</div>\n",
              "    </div>\n",
              "  </div>\n"
            ],
            "application/vnd.google.colaboratory.intrinsic+json": {
              "type": "dataframe",
              "variable_name": "X_train_tfidf_df"
            }
          },
          "metadata": {},
          "execution_count": 37
        }
      ],
      "source": [
        "# Convertimos la matriz dispersa en un DataFrame\n",
        "X_train_tfidf_df = pd.DataFrame.sparse.from_spmatrix(X_train_tfidf,\n",
        "                                                     columns=vectorizer.get_feature_names_out())\n",
        "\n",
        "X_train_tfidf_df"
      ]
    },
    {
      "cell_type": "code",
      "execution_count": null,
      "id": "2a1c93ed-4cc6-48b2-9b0e-ae5000adc193",
      "metadata": {
        "id": "2a1c93ed-4cc6-48b2-9b0e-ae5000adc193",
        "outputId": "b02d4cbe-f6d9-4e7f-bfae-14d302922138",
        "colab": {
          "base_uri": "https://localhost:8080/",
          "height": 53
        }
      },
      "outputs": [
        {
          "output_type": "execute_result",
          "data": {
            "text/plain": [
              "'I sent my scores to sophas and i had to do secondary application for a few schools. I think if you are thinking of applying, do a research on cost also. Contact joke ogunrinde, her school is one me the less expensive ones'"
            ],
            "application/vnd.google.colaboratory.intrinsic+json": {
              "type": "string"
            }
          },
          "metadata": {},
          "execution_count": 38
        }
      ],
      "source": [
        "X_train.iloc[1]"
      ]
    },
    {
      "cell_type": "code",
      "execution_count": null,
      "id": "a7f12f1f-19d9-41f7-a685-ca9f0eb8e86d",
      "metadata": {
        "id": "a7f12f1f-19d9-41f7-a685-ca9f0eb8e86d",
        "outputId": "c7e656a7-43d1-46c2-9f73-e61eeec0d9bf",
        "colab": {
          "base_uri": "https://localhost:8080/"
        }
      },
      "outputs": [
        {
          "output_type": "execute_result",
          "data": {
            "text/plain": [
              "0.12175375951774328"
            ]
          },
          "metadata": {},
          "execution_count": 39
        }
      ],
      "source": [
        "X_train_tfidf_df.loc[1, 'to']"
      ]
    },
    {
      "cell_type": "markdown",
      "id": "3a192dc0-6bf8-4cd4-a66e-c94e3a13fde1",
      "metadata": {
        "id": "3a192dc0-6bf8-4cd4-a66e-c94e3a13fde1"
      },
      "source": [
        "Como vemos el resultado es el mismo usando solo `TfidfVectorizer` que combinando `CountVectorizer` y `TfidTransformer`."
      ]
    },
    {
      "cell_type": "markdown",
      "id": "97e4b8c7-16b0-483a-8532-8df8dc7a8675",
      "metadata": {
        "id": "97e4b8c7-16b0-483a-8532-8df8dc7a8675"
      },
      "source": [
        "Ahora que tenemos vectorizados los textos, vamos a usar un clasificador [LinearSVC](https://scikit-learn.org/stable/modules/generated/sklearn.svm.LinearSVC.html) para intentar predecir las etiquetas de los mensajes, el cual maneja bien la entrada dispersa y escala bien para grandes números de muestras.\n",
        "\n",
        "Recordemos que hasta el momento solo nuestro conjunto de entrenamiento ha sido vectorizado dentro de todo el vocabulario. Para realizar el mismo análisis en nuestro conjunto de pruebas tenemos que aplicarle los mismos procedimientos.\n",
        "\n",
        "Por suerte, Scikit-Learn nos ofrece la clase [`Pipeline`](https://scikit-learn.org/stable/modules/generated/sklearn.pipeline.Pipeline.html) que se comporta como un clasificador compuesto y nos permite agrupar todos los pasos en uno solo."
      ]
    },
    {
      "cell_type": "code",
      "execution_count": null,
      "id": "877a940e-4eaf-41b0-9847-083904c04014",
      "metadata": {
        "id": "877a940e-4eaf-41b0-9847-083904c04014"
      },
      "outputs": [],
      "source": [
        "from sklearn.feature_extraction.text import TfidfVectorizer\n",
        "from sklearn.svm import LinearSVC\n",
        "from sklearn.pipeline import Pipeline"
      ]
    },
    {
      "cell_type": "code",
      "execution_count": null,
      "id": "91f87554-d143-4c7e-8e33-18a28a73551c",
      "metadata": {
        "id": "91f87554-d143-4c7e-8e33-18a28a73551c"
      },
      "outputs": [],
      "source": [
        "# Instanciamos el pipeline\n",
        "text_clf = Pipeline([('tfidf', TfidfVectorizer()),\n",
        "                     ('clf', LinearSVC())])"
      ]
    },
    {
      "cell_type": "code",
      "execution_count": null,
      "id": "4ee1260c-2c5a-41d7-a574-e041738f0125",
      "metadata": {
        "id": "4ee1260c-2c5a-41d7-a574-e041738f0125",
        "outputId": "781b2a86-2383-427d-d334-cab6eb294594",
        "colab": {
          "base_uri": "https://localhost:8080/",
          "height": 126
        }
      },
      "outputs": [
        {
          "output_type": "execute_result",
          "data": {
            "text/plain": [
              "Pipeline(steps=[('tfidf', TfidfVectorizer()), ('clf', LinearSVC())])"
            ],
            "text/html": [
              "<style>#sk-container-id-1 {color: black;background-color: white;}#sk-container-id-1 pre{padding: 0;}#sk-container-id-1 div.sk-toggleable {background-color: white;}#sk-container-id-1 label.sk-toggleable__label {cursor: pointer;display: block;width: 100%;margin-bottom: 0;padding: 0.3em;box-sizing: border-box;text-align: center;}#sk-container-id-1 label.sk-toggleable__label-arrow:before {content: \"▸\";float: left;margin-right: 0.25em;color: #696969;}#sk-container-id-1 label.sk-toggleable__label-arrow:hover:before {color: black;}#sk-container-id-1 div.sk-estimator:hover label.sk-toggleable__label-arrow:before {color: black;}#sk-container-id-1 div.sk-toggleable__content {max-height: 0;max-width: 0;overflow: hidden;text-align: left;background-color: #f0f8ff;}#sk-container-id-1 div.sk-toggleable__content pre {margin: 0.2em;color: black;border-radius: 0.25em;background-color: #f0f8ff;}#sk-container-id-1 input.sk-toggleable__control:checked~div.sk-toggleable__content {max-height: 200px;max-width: 100%;overflow: auto;}#sk-container-id-1 input.sk-toggleable__control:checked~label.sk-toggleable__label-arrow:before {content: \"▾\";}#sk-container-id-1 div.sk-estimator input.sk-toggleable__control:checked~label.sk-toggleable__label {background-color: #d4ebff;}#sk-container-id-1 div.sk-label input.sk-toggleable__control:checked~label.sk-toggleable__label {background-color: #d4ebff;}#sk-container-id-1 input.sk-hidden--visually {border: 0;clip: rect(1px 1px 1px 1px);clip: rect(1px, 1px, 1px, 1px);height: 1px;margin: -1px;overflow: hidden;padding: 0;position: absolute;width: 1px;}#sk-container-id-1 div.sk-estimator {font-family: monospace;background-color: #f0f8ff;border: 1px dotted black;border-radius: 0.25em;box-sizing: border-box;margin-bottom: 0.5em;}#sk-container-id-1 div.sk-estimator:hover {background-color: #d4ebff;}#sk-container-id-1 div.sk-parallel-item::after {content: \"\";width: 100%;border-bottom: 1px solid gray;flex-grow: 1;}#sk-container-id-1 div.sk-label:hover label.sk-toggleable__label {background-color: #d4ebff;}#sk-container-id-1 div.sk-serial::before {content: \"\";position: absolute;border-left: 1px solid gray;box-sizing: border-box;top: 0;bottom: 0;left: 50%;z-index: 0;}#sk-container-id-1 div.sk-serial {display: flex;flex-direction: column;align-items: center;background-color: white;padding-right: 0.2em;padding-left: 0.2em;position: relative;}#sk-container-id-1 div.sk-item {position: relative;z-index: 1;}#sk-container-id-1 div.sk-parallel {display: flex;align-items: stretch;justify-content: center;background-color: white;position: relative;}#sk-container-id-1 div.sk-item::before, #sk-container-id-1 div.sk-parallel-item::before {content: \"\";position: absolute;border-left: 1px solid gray;box-sizing: border-box;top: 0;bottom: 0;left: 50%;z-index: -1;}#sk-container-id-1 div.sk-parallel-item {display: flex;flex-direction: column;z-index: 1;position: relative;background-color: white;}#sk-container-id-1 div.sk-parallel-item:first-child::after {align-self: flex-end;width: 50%;}#sk-container-id-1 div.sk-parallel-item:last-child::after {align-self: flex-start;width: 50%;}#sk-container-id-1 div.sk-parallel-item:only-child::after {width: 0;}#sk-container-id-1 div.sk-dashed-wrapped {border: 1px dashed gray;margin: 0 0.4em 0.5em 0.4em;box-sizing: border-box;padding-bottom: 0.4em;background-color: white;}#sk-container-id-1 div.sk-label label {font-family: monospace;font-weight: bold;display: inline-block;line-height: 1.2em;}#sk-container-id-1 div.sk-label-container {text-align: center;}#sk-container-id-1 div.sk-container {/* jupyter's `normalize.less` sets `[hidden] { display: none; }` but bootstrap.min.css set `[hidden] { display: none !important; }` so we also need the `!important` here to be able to override the default hidden behavior on the sphinx rendered scikit-learn.org. See: https://github.com/scikit-learn/scikit-learn/issues/21755 */display: inline-block !important;position: relative;}#sk-container-id-1 div.sk-text-repr-fallback {display: none;}</style><div id=\"sk-container-id-1\" class=\"sk-top-container\"><div class=\"sk-text-repr-fallback\"><pre>Pipeline(steps=[(&#x27;tfidf&#x27;, TfidfVectorizer()), (&#x27;clf&#x27;, LinearSVC())])</pre><b>In a Jupyter environment, please rerun this cell to show the HTML representation or trust the notebook. <br />On GitHub, the HTML representation is unable to render, please try loading this page with nbviewer.org.</b></div><div class=\"sk-container\" hidden><div class=\"sk-item sk-dashed-wrapped\"><div class=\"sk-label-container\"><div class=\"sk-label sk-toggleable\"><input class=\"sk-toggleable__control sk-hidden--visually\" id=\"sk-estimator-id-1\" type=\"checkbox\" ><label for=\"sk-estimator-id-1\" class=\"sk-toggleable__label sk-toggleable__label-arrow\">Pipeline</label><div class=\"sk-toggleable__content\"><pre>Pipeline(steps=[(&#x27;tfidf&#x27;, TfidfVectorizer()), (&#x27;clf&#x27;, LinearSVC())])</pre></div></div></div><div class=\"sk-serial\"><div class=\"sk-item\"><div class=\"sk-estimator sk-toggleable\"><input class=\"sk-toggleable__control sk-hidden--visually\" id=\"sk-estimator-id-2\" type=\"checkbox\" ><label for=\"sk-estimator-id-2\" class=\"sk-toggleable__label sk-toggleable__label-arrow\">TfidfVectorizer</label><div class=\"sk-toggleable__content\"><pre>TfidfVectorizer()</pre></div></div></div><div class=\"sk-item\"><div class=\"sk-estimator sk-toggleable\"><input class=\"sk-toggleable__control sk-hidden--visually\" id=\"sk-estimator-id-3\" type=\"checkbox\" ><label for=\"sk-estimator-id-3\" class=\"sk-toggleable__label sk-toggleable__label-arrow\">LinearSVC</label><div class=\"sk-toggleable__content\"><pre>LinearSVC()</pre></div></div></div></div></div></div></div>"
            ]
          },
          "metadata": {},
          "execution_count": 42
        }
      ],
      "source": [
        "# Ingestamos los datos de entrenamiento en el pipeline\n",
        "text_clf.fit(X_train, y_train)"
      ]
    },
    {
      "cell_type": "markdown",
      "id": "836f7c54-d070-486e-b6a1-6e8850707dce",
      "metadata": {
        "tags": [],
        "id": "836f7c54-d070-486e-b6a1-6e8850707dce"
      },
      "source": [
        "Toma una lista de tuplas con los pasos que queremos aplicar y el nombre que les damos."
      ]
    },
    {
      "cell_type": "code",
      "execution_count": null,
      "id": "03c5f22d-5582-4f4e-a7ed-60f00c230340",
      "metadata": {
        "id": "03c5f22d-5582-4f4e-a7ed-60f00c230340"
      },
      "outputs": [],
      "source": [
        "# Realizamos las predicciones\n",
        "y_pred = text_clf.predict(X_test)"
      ]
    },
    {
      "cell_type": "code",
      "execution_count": null,
      "id": "9ef45fd0-5a31-4771-ba39-ac7bfdf39792",
      "metadata": {
        "id": "9ef45fd0-5a31-4771-ba39-ac7bfdf39792"
      },
      "outputs": [],
      "source": [
        "import matplotlib.pyplot as plt\n",
        "import seaborn as sns\n",
        "\n",
        "from sklearn.metrics import accuracy_score, confusion_matrix, classification_report"
      ]
    },
    {
      "cell_type": "code",
      "execution_count": null,
      "id": "d38d3753-6f12-4675-92ca-d71314d849d2",
      "metadata": {
        "id": "d38d3753-6f12-4675-92ca-d71314d849d2",
        "outputId": "a6ff73c0-1982-4b66-ff55-e5060e2bd942",
        "colab": {
          "base_uri": "https://localhost:8080/",
          "height": 564
        }
      },
      "outputs": [
        {
          "output_type": "display_data",
          "data": {
            "text/plain": [
              "<Figure size 800x600 with 2 Axes>"
            ],
            "image/png": "[encoded data removed]"
          },
          "metadata": {}
        }
      ],
      "source": [
        "# Mostramos la matriz de confusión\n",
        "conf_matrix = confusion_matrix(y_test, y_pred)\n",
        "\n",
        "plt.figure(figsize=[8, 6])\n",
        "ax = sns.heatmap(conf_matrix,\n",
        "                 annot=True,\n",
        "                 fmt='d')\n",
        "\n",
        "plt.xticks(ticks=[0.5, 1.5], labels=['ham', 'spam'])\n",
        "plt.yticks(ticks=[0.5, 1.5], labels=['ham', 'spam'], va='center')\n",
        "plt.title('Confusion matrix')\n",
        "plt.ylabel('True class')\n",
        "plt.xlabel('Predicted class');"
      ]
    },
    {
      "cell_type": "code",
      "execution_count": null,
      "id": "80a11bd3-1fae-423f-9afc-5dd418d533c2",
      "metadata": {
        "id": "80a11bd3-1fae-423f-9afc-5dd418d533c2",
        "outputId": "6f6ba689-c131-4599-d95d-4b1c29b91521",
        "colab": {
          "base_uri": "https://localhost:8080/"
        }
      },
      "outputs": [
        {
          "output_type": "stream",
          "name": "stdout",
          "text": [
            "              precision    recall  f1-score   support\n",
            "\n",
            "         ham       0.99      1.00      0.99      1593\n",
            "        spam       0.97      0.95      0.96       246\n",
            "\n",
            "    accuracy                           0.99      1839\n",
            "   macro avg       0.98      0.97      0.98      1839\n",
            "weighted avg       0.99      0.99      0.99      1839\n",
            "\n"
          ]
        }
      ],
      "source": [
        "# Imprimimos el informe de clasificación\n",
        "print(classification_report(y_test, y_pred))"
      ]
    },
    {
      "cell_type": "code",
      "execution_count": null,
      "id": "1bafa175-0649-4f90-b776-9e1f1ae7a3d0",
      "metadata": {
        "id": "1bafa175-0649-4f90-b776-9e1f1ae7a3d0",
        "outputId": "c800dd46-e820-4a7b-b37c-8ec86a624f7a",
        "colab": {
          "base_uri": "https://localhost:8080/"
        }
      },
      "outputs": [
        {
          "output_type": "stream",
          "name": "stdout",
          "text": [
            "0.989668297988037\n"
          ]
        }
      ],
      "source": [
        "# Imprimimos la exactitud total\n",
        "print(accuracy_score(y_test, y_pred))"
      ]
    },
    {
      "cell_type": "markdown",
      "id": "b9bf97a2-d7c1-4d49-a407-f72a460e7357",
      "metadata": {
        "id": "b9bf97a2-d7c1-4d49-a407-f72a460e7357"
      },
      "source": [
        "Usando el texto de los mensajes nuestro modelo se ha comportado extremadamente bien. Ha predicho correctamente el _spam_ el 98.97% de las veces."
      ]
    },
    {
      "cell_type": "code",
      "execution_count": null,
      "id": "b2e9f1e7-5a09-4eec-8d0d-92c2aca82b79",
      "metadata": {
        "id": "b2e9f1e7-5a09-4eec-8d0d-92c2aca82b79",
        "outputId": "dfda87ad-d57d-4e23-c5f5-b91a9fa9019a",
        "colab": {
          "base_uri": "https://localhost:8080/"
        }
      },
      "outputs": [
        {
          "output_type": "execute_result",
          "data": {
            "text/plain": [
              "array(['ham', 'spam'], dtype=object)"
            ]
          },
          "metadata": {},
          "execution_count": 48
        }
      ],
      "source": [
        "# Probamos con otros mensajes nuevos\n",
        "text_clf.predict([\"Hello, how are you doing?\",\n",
        "                  \"Congratulations! You've been selected as a winner. Text WON to 45255.\"])"
      ]
    },
    {
      "cell_type": "markdown",
      "id": "46e819ae-e3c7-4def-8fbb-32554f136732",
      "metadata": {
        "id": "46e819ae-e3c7-4def-8fbb-32554f136732"
      },
      "source": [
        "Puedes encontrar más información sobre la extracción de características de los textos con Scikit-Learn en [Text feature extraction](https://scikit-learn.org/stable/modules/feature_extraction.html#text-feature-extraction)."
      ]
    },
    {
      "cell_type": "markdown",
      "id": "b2031de2-1456-41ed-9fe4-c6f1bd8aedc6",
      "metadata": {
        "id": "b2031de2-1456-41ed-9fe4-c6f1bd8aedc6"
      },
      "source": [
        "## One-hot encoding\n",
        "\n",
        "Como hemos comentado, en los vectores de frecuencia o conteo unos tokens tendrán más magnitud que otros en función de su frecuencia de aparición. Por el contrario, en la técnica de _**one-hot encoding**_ cada palabra o token de un texto corresponde a un elemento vectorial y cada token tiene un índice designado para sí mismo en el vector de palabra, donde ese índice está marcado con `1` mientras que los otros están marcados con `0` para representar una palabra en particular.\n",
        "\n",
        "Este método implica la creación de un vocabulario con las palabras distintas de todo el corpus a las que se les asigna un identificador único, siendo la longitud de cada vector de palabra la longitud de este vocabulario.\n",
        "\n",
        "Pongamos un ejemplo en el que tenemos un corpus formado por dos documentos:\n",
        "```\n",
        "doc_1 = \"Hoy es un buen día, pero mañana será un mal día\"\n",
        "doc_2 = \"Mañana será un buen día\"\n",
        "```\n",
        "\n",
        "Después de preprocesar el texto, el vocabulario quedaría de la siguiente manera:\n",
        "\n",
        "```\n",
        "vocab = {'buen': 0, 'dia': 1, 'es': 2, 'hoy': 3, 'mal': 4,\n",
        "         'mañana': 5, 'pero': 6, 'sera': 7, 'un': 8}\n",
        "```\n",
        "\n",
        "El vocabulario aquí consta de 9 palabras distintas y estas palabras pueden ser codificadas en vectores de longitud 9. Las representaciones en forma de vector de las palabras de este vocabulario serían:\n",
        "\n",
        "```\n",
        "  'buen' - [1,0,0,0,0,0,0,0,0]\n",
        "   'dia' - [0,1,0,0,0,0,0,0,0]\n",
        "    'es' - [0,0,1,0,0,0,0,0,0]\n",
        "   'hoy' - [0,0,0,1,0,0,0,0,0]\n",
        "   'mal' - [0,0,0,0,1,0,0,0,0]\n",
        "'mañana' - [0,0,0,0,0,1,0,0,0]\n",
        "  'pero' - [0,0,0,0,0,0,1,0,0]\n",
        "  'sera' - [0,0,0,0,0,0,0,1,0]\n",
        "    'un' - [0,0,0,0,0,0,0,0,1]\n",
        "```\n",
        "\n",
        "Cada palabra se escribe o codifica como un vector one-hot formado solo por un `1` en el lugar del índice que le corresponde y el resto `0`s (vector disperso) y cada vector es único. Esto permite que la palabra sea identificada de forma única por su vector one-hot y viceversa, es decir, no hay dos palabras que tengan la misma representación.\n",
        "\n",
        "Dado que un palabra se representa como un vector, la lista de palabras del documento se puede representar como una matriz. Y, si tenemos una lista de documentos cuyas palabras están codificadas usando OHE, resultará a su vez en una matriz cuyos elementos son matrices, de modo que terminamos con un tensor tridimensional que se puede alimentar al algoritmo de aprendizaje automático.\n",
        "\n",
        "Usando esta representación, los textos `doc_1 = \"Hoy es un buen día, pero mañana será un mal día.\"` y `doc_2 = \"Mañana será un buen día.\"` de nuestro corpus se pueden codificar de la siguiente manera:\n",
        "\n",
        "```\n",
        "          0 1 2 3 4 5 6 7 8\n",
        "doc_1: [[0,0,0,1,0,0,0,0,0], - 'hoy'\n",
        "        [0,0,1,0,0,0,0,0,0], - 'es'\n",
        "        [0,0,0,0,0,0,0,0,1], - 'un'\n",
        "        [1,0,0,0,0,0,0,0,0], - 'buen'\n",
        "        [0,1,0,0,0,0,0,0,0], - 'dia'\n",
        "        [0,0,0,0,0,0,1,0,0], - 'pero'\n",
        "        [0,0,0,0,0,1,0,0,0], - 'mañana'\n",
        "        [0,0,0,0,0,0,0,1,0], - 'sera'\n",
        "        [0,0,0,0,0,0,0,0,1], - 'un'\n",
        "        [0,0,0,0,1,0,0,0,0], - 'mal'\n",
        "        [0,1,0,0,0,0,0,0,0]] - 'dia'\n",
        "         \n",
        "doc_2: [[0,0,0,0,0,1,0,0,0], - 'mañana'\n",
        "        [0,0,0,0,0,0,0,1,0], - 'sera'\n",
        "        [0,0,0,0,0,0,0,0,1], - 'un'\n",
        "        [1,0,0,0,0,0,0,0,0], - 'buen'\n",
        "        [0,0,0,0,0,0,0,0,0]] - 'dia'\n",
        "```\n",
        "\n",
        "Lo que ocurre en realidad cuando se aplica OHE a un documento de texto es que los tokens se reemplazan por sus vectores one-hot, y un documento dado se transforma a su vez en una matriz 2D con la forma de $N×M$, siendo $N$ el número de tokens del documento y $M$ el tamaño del vocabulario. Dependiendo de la cantidad de tokens que tenga el documento, en principio su forma será diferente, aunque el resultado de un proceso de OHE siempre es una matriz dispersa.\n",
        "\n",
        "El principal beneficio de los vectores de palabras codificadas usando OHE es su uso para la clasificación de textos. Aunque esta aproximación tiene varios inconvenientes:\n",
        "1. La enorme capacidad de memoria que se necesita. Consideremos que tenemos un corpus con 20.000 palabras únicas, un solo documento corto en ese corpus de quizás 40 palabras, estaría representado por una matriz con 40 filas y 20.000 columnas (una para cada palabra única) con un máximo de 40 elementos de la matriz distintos de cero. Esto deja muchos ceros y puede terminar ocupando una gran cantidad de memoria para albergar estas representaciones dispersas.\n",
        "2. Estos vectores tan grandes y dispersos suelen llevar asociado además de problema es la maldición de la dimensionalidad.\n",
        "3. La falta de representación del significado de modo que no se puede derivar similitudes entre palabras, es decir, las relaciones entre las palabras (el orden de aparición, las relaciones semánticas, etc.) se ignoran por completo en esta representación (por ejemplo, `'trabajo'` y `'ocupación'` se consideran palabras completamente independientes, aunque prácticamente tengan el mismo significado). Si bien con este enfoque capturamos bien la presencia y ausencia de palabras en un texto en particular, no podemos determinar fácilmente ningún significado a partir de la simple presencia/ausencia de estas palabras, es decir, perdemos el contexto.\n",
        "4. Si alguna de las palabras del documento que estamos vectorizando no existe en el vocabulario en principio se ignora. Así, es necesario tener un vocabulario extenso para que este modelo funcione bien.\n",
        "\n",
        "Como hemos comentado, el concepto de similitud entre palabras es difícil de extraer con esta técnica, ya que los vectores de palabras son estadísticamente ortogonales. En OHE todos los vectores son ortogonales entre sí, de modo el producto interno de dos vectores cualesquiera es cero y sus similitudes no se pueden medir por la distancia ni la similitud del coseno.\n",
        "\n",
        "Tomemos, por ejemplo, los pares de palabras `'perro'` y  `'perros'`, o `'coche'` y `'auto'`. Claramente, estos pares de palabras son similares de diferente forma respectivamente. Se pueden utilizar herramientas tradicionales de NLP como la lematización en el preprocesamiento para ayudar a exponer la similitud entre el primer par de palabras; sin embargo, necesitamos un enfoque más sólido para abordar el descubrimiento de similitudes entre el segundo par de palabras.\n",
        "\n",
        "Dado que el tamaño del vocabulario aumenta a medida que el corpus de entrenamiento se hace más grande y, como resultado, cada token estaría representado por vectores con una longitud cada vez mayor, las matrices serían cada vez más dispersas. En lugar de representaciones a nivel de palabra, un enfoque más común es usar caracteres como tokens, ya que limitará la longitud de los vectores.\n",
        "\n",
        "Pero ya sea usando representaciones a nivel de palabra o de carácter, es inevitable que diferentes matrices de documentos tengan diferentes formas (diferente número de filas). Esto puede ser un problema para la mayoría de los modelos de aprendizaje automático, ya que esperan inputs con una forma constante. Por otro lado, los modelos basados en RNN, si se configuran correctamente, aunque no comparten esta preocupación debido a su naturaleza \"recurrente\", sí se espera que todas las instancias dentro del mismo lote compartan la misma longitud. Esto va a hacer necesario que debamos fijar una longitud máxima y constante para el documento de la entrada, de modo que los documentos más largos serán truncados y los más cortos rellenados, por ejemplo con vectores de 0s, hasta alcanzar la longitud especificada.\n",
        "\n",
        "Además, aunque el tamaño del corpus de entrenamiento puede ser tan grande como queramos, haciendo que el vocabulario sea cada vez más rico, siempre existe la posibilidad de encontrar palabras desconocidas durante el tiempo de inferencia. Una forma de manejar esto es reservar algo de espacio en el vocabulario durante la inicialización, de modo que cuando aparezca una palabra fuera del vocabulario se pueda asignar a uno de estos lugares reservados _(out of vocabulary bucket)_.\n",
        "\n",
        "Vamos a ver con un ejemplo sencillo cómo se implementaría en código:"
      ]
    },
    {
      "cell_type": "code",
      "execution_count": null,
      "id": "f7d4a85e-039a-4f0e-bc2a-e8ea3fb50b0a",
      "metadata": {
        "id": "f7d4a85e-039a-4f0e-bc2a-e8ea3fb50b0a"
      },
      "outputs": [],
      "source": [
        "import numpy as np"
      ]
    },
    {
      "cell_type": "code",
      "execution_count": null,
      "id": "bd0a5458-6fbb-4985-9630-81c31cfab521",
      "metadata": {
        "id": "bd0a5458-6fbb-4985-9630-81c31cfab521",
        "outputId": "2733bf0b-fd99-47ef-c4ba-e7a1ff11dfd2",
        "colab": {
          "base_uri": "https://localhost:8080/"
        }
      },
      "outputs": [
        {
          "output_type": "execute_result",
          "data": {
            "text/plain": [
              "{'buen': 0,\n",
              " 'dia': 1,\n",
              " 'es': 2,\n",
              " 'hoy': 3,\n",
              " 'mal': 4,\n",
              " 'mañana': 5,\n",
              " 'pero': 6,\n",
              " 'sera': 7,\n",
              " 'un': 8}"
            ]
          },
          "metadata": {},
          "execution_count": 50
        }
      ],
      "source": [
        "# Incluimos los textos ya preprocesados por sencillez\n",
        "corpus = ['hoy es un buen dia pero mañana sera un mal dia',\n",
        "          'mañana sera un buen dia']\n",
        "\n",
        "# Creamos el vocabulario\n",
        "vocab = {word: i for i, word in enumerate(sorted(list(set(' '.join(corpus).split()))))}\n",
        "vocab"
      ]
    },
    {
      "cell_type": "code",
      "execution_count": null,
      "id": "b76ba605-7274-4d53-95c7-07a04509be88",
      "metadata": {
        "id": "b76ba605-7274-4d53-95c7-07a04509be88"
      },
      "outputs": [],
      "source": [
        "# Establecemos la longitud máxima del documento\n",
        "# En este caso nos quedamos con la longitud del más largo\n",
        "max_length = len(max([i.split() for i in corpus], key=len))\n",
        "\n",
        "# Creamos una matriz 3D (tensor) y la inicializamos a cero\n",
        "results = np.zeros(shape=(len(corpus),    # Nº de documentos del corpus\n",
        "                          max_length,     # Longitud máxima que hemos establecido para los documentos\n",
        "                          len(vocab)))    # Tamaño del vocabulario"
      ]
    },
    {
      "cell_type": "code",
      "execution_count": null,
      "id": "9f3c84ff-3c87-449c-b0e8-48ec9f4b0763",
      "metadata": {
        "id": "9f3c84ff-3c87-449c-b0e8-48ec9f4b0763"
      },
      "outputs": [],
      "source": [
        "# Iteramos sobre los documentos del corpus\n",
        "for i, doc in enumerate(corpus):\n",
        "    # Iteramos sobre los tokens de cada documento\n",
        "    for j, word in enumerate(doc.split()):\n",
        "        # Obtenemos el id único correspondiente a cada\n",
        "        # palabra usando el diccionario del vocabulario\n",
        "        index = vocab.get(word)\n",
        "\n",
        "        # Escribimos un 1 en la posición correspondiente\n",
        "        results[i, j, index] = 1."
      ]
    },
    {
      "cell_type": "code",
      "execution_count": null,
      "id": "d661aa9d-c2ce-45b4-80b8-611ef0820b26",
      "metadata": {
        "id": "d661aa9d-c2ce-45b4-80b8-611ef0820b26",
        "outputId": "5f4149a8-98d2-4d38-bab3-a1209a66bc86",
        "colab": {
          "base_uri": "https://localhost:8080/"
        }
      },
      "outputs": [
        {
          "output_type": "execute_result",
          "data": {
            "text/plain": [
              "array([[[0., 0., 0., 1., 0., 0., 0., 0., 0.],\n",
              "        [0., 0., 1., 0., 0., 0., 0., 0., 0.],\n",
              "        [0., 0., 0., 0., 0., 0., 0., 0., 1.],\n",
              "        [1., 0., 0., 0., 0., 0., 0., 0., 0.],\n",
              "        [0., 1., 0., 0., 0., 0., 0., 0., 0.],\n",
              "        [0., 0., 0., 0., 0., 0., 1., 0., 0.],\n",
              "        [0., 0., 0., 0., 0., 1., 0., 0., 0.],\n",
              "        [0., 0., 0., 0., 0., 0., 0., 1., 0.],\n",
              "        [0., 0., 0., 0., 0., 0., 0., 0., 1.],\n",
              "        [0., 0., 0., 0., 1., 0., 0., 0., 0.],\n",
              "        [0., 1., 0., 0., 0., 0., 0., 0., 0.]],\n",
              "\n",
              "       [[0., 0., 0., 0., 0., 1., 0., 0., 0.],\n",
              "        [0., 0., 0., 0., 0., 0., 0., 1., 0.],\n",
              "        [0., 0., 0., 0., 0., 0., 0., 0., 1.],\n",
              "        [1., 0., 0., 0., 0., 0., 0., 0., 0.],\n",
              "        [0., 1., 0., 0., 0., 0., 0., 0., 0.],\n",
              "        [0., 0., 0., 0., 0., 0., 0., 0., 0.],\n",
              "        [0., 0., 0., 0., 0., 0., 0., 0., 0.],\n",
              "        [0., 0., 0., 0., 0., 0., 0., 0., 0.],\n",
              "        [0., 0., 0., 0., 0., 0., 0., 0., 0.],\n",
              "        [0., 0., 0., 0., 0., 0., 0., 0., 0.],\n",
              "        [0., 0., 0., 0., 0., 0., 0., 0., 0.]]])"
            ]
          },
          "metadata": {},
          "execution_count": 53
        }
      ],
      "source": [
        "results"
      ]
    },
    {
      "cell_type": "code",
      "execution_count": null,
      "id": "b65389aa-96ce-44fc-8c91-369b2aaadb8e",
      "metadata": {
        "id": "b65389aa-96ce-44fc-8c91-369b2aaadb8e",
        "outputId": "25c7e013-6321-4a4c-bda7-3735eb4a8bfd",
        "colab": {
          "base_uri": "https://localhost:8080/"
        }
      },
      "outputs": [
        {
          "output_type": "execute_result",
          "data": {
            "text/plain": [
              "(2, 11, 9)"
            ]
          },
          "metadata": {},
          "execution_count": 54
        }
      ],
      "source": [
        "results.shape"
      ]
    },
    {
      "cell_type": "markdown",
      "id": "75b8df93-3698-4056-a826-70cc602f97f7",
      "metadata": {
        "id": "75b8df93-3698-4056-a826-70cc602f97f7"
      },
      "source": [
        "El resultado es una representación _one-hot encoding_ de los documentos de nuestro corpus como un tensor de forma (2, 11, 9)."
      ]
    },
    {
      "cell_type": "markdown",
      "id": "b524c8e6-b8ab-4a2b-9c1f-19ca0fd2f3e4",
      "metadata": {
        "id": "b524c8e6-b8ab-4a2b-9c1f-19ca0fd2f3e4"
      },
      "source": [
        "# Practice\n",
        "\n",
        "**Importa el conjunto de datos `amazonreviews.csv` y guárdalo en una variable llamada `data`. Muestra 10 registros aleatorios del conjunto de datos.**"
      ]
    },
    {
      "cell_type": "code",
      "execution_count": null,
      "id": "8a230b7d-8e9a-4f72-88fa-0e9756c746a5",
      "metadata": {
        "id": "8a230b7d-8e9a-4f72-88fa-0e9756c746a5"
      },
      "outputs": [],
      "source": [
        "# Importa las librerías necesarias\n",
        "# En realidad ya las tenemos importadas arriba\n",
        "import pandas as pd"
      ]
    },
    {
      "cell_type": "code",
      "execution_count": null,
      "id": "33d59947-ff1f-4637-b9ae-9458b5a05782",
      "metadata": {
        "id": "33d59947-ff1f-4637-b9ae-9458b5a05782",
        "outputId": "63f5a4e9-4b18-4003-d9c0-c7a8809ea390",
        "colab": {
          "base_uri": "https://localhost:8080/",
          "height": 206
        }
      },
      "outputs": [
        {
          "output_type": "execute_result",
          "data": {
            "text/plain": [
              "  label                                             review\n",
              "0   pos  Stuning even for the non-gamer: This sound tra...\n",
              "1   pos  The best soundtrack ever to anything.: I'm rea...\n",
              "2   pos  Amazing!: This soundtrack is my favorite music...\n",
              "3   pos  Excellent Soundtrack: I truly like this soundt...\n",
              "4   pos  Remember, Pull Your Jaw Off The Floor After He..."
            ],
            "text/html": [
              "\n",
              "  <div id=\"df-bb1e4bf2-ee1e-48b2-ba9d-d81e1e3ffb51\" class=\"colab-df-container\">\n",
              "    <div>\n",
              "<style scoped>\n",
              "    .dataframe tbody tr th:only-of-type {\n",
              "        vertical-align: middle;\n",
              "    }\n",
              "\n",
              "    .dataframe tbody tr th {\n",
              "        vertical-align: top;\n",
              "    }\n",
              "\n",
              "    .dataframe thead th {\n",
              "        text-align: right;\n",
              "    }\n",
              "</style>\n",
              "<table border=\"1\" class=\"dataframe\">\n",
              "  <thead>\n",
              "    <tr style=\"text-align: right;\">\n",
              "      <th></th>\n",
              "      <th>label</th>\n",
              "      <th>review</th>\n",
              "    </tr>\n",
              "  </thead>\n",
              "  <tbody>\n",
              "    <tr>\n",
              "      <th>0</th>\n",
              "      <td>pos</td>\n",
              "      <td>Stuning even for the non-gamer: This sound tra...</td>\n",
              "    </tr>\n",
              "    <tr>\n",
              "      <th>1</th>\n",
              "      <td>pos</td>\n",
              "      <td>The best soundtrack ever to anything.: I'm rea...</td>\n",
              "    </tr>\n",
              "    <tr>\n",
              "      <th>2</th>\n",
              "      <td>pos</td>\n",
              "      <td>Amazing!: This soundtrack is my favorite music...</td>\n",
              "    </tr>\n",
              "    <tr>\n",
              "      <th>3</th>\n",
              "      <td>pos</td>\n",
              "      <td>Excellent Soundtrack: I truly like this soundt...</td>\n",
              "    </tr>\n",
              "    <tr>\n",
              "      <th>4</th>\n",
              "      <td>pos</td>\n",
              "      <td>Remember, Pull Your Jaw Off The Floor After He...</td>\n",
              "    </tr>\n",
              "  </tbody>\n",
              "</table>\n",
              "</div>\n",
              "    <div class=\"colab-df-buttons\">\n",
              "\n",
              "  <div class=\"colab-df-container\">\n",
              "    <button class=\"colab-df-convert\" onclick=\"convertToInteractive('df-bb1e4bf2-ee1e-48b2-ba9d-d81e1e3ffb51')\"\n",
              "            title=\"Convert this dataframe to an interactive table.\"\n",
              "            style=\"display:none;\">\n",
              "\n",
              "  <svg xmlns=\"http://www.w3.org/2000/svg\" height=\"24px\" viewBox=\"0 -960 960 960\">\n",
              "    <path d=\"M120-120v-720h720v720H120Zm60-500h600v-160H180v160Zm220 220h160v-160H400v160Zm0 220h160v-160H400v160ZM180-400h160v-160H180v160Zm440 0h160v-160H620v160ZM180-180h160v-160H180v160Zm440 0h160v-160H620v160Z\"/>\n",
              "  </svg>\n",
              "    </button>\n",
              "\n",
              "  <style>\n",
              "    .colab-df-container {\n",
              "      display:flex;\n",
              "      gap: 12px;\n",
              "    }\n",
              "\n",
              "    .colab-df-convert {\n",
              "      background-color: #E8F0FE;\n",
              "      border: none;\n",
              "      border-radius: 50%;\n",
              "      cursor: pointer;\n",
              "      display: none;\n",
              "      fill: #1967D2;\n",
              "      height: 32px;\n",
              "      padding: 0 0 0 0;\n",
              "      width: 32px;\n",
              "    }\n",
              "\n",
              "    .colab-df-convert:hover {\n",
              "      background-color: #E2EBFA;\n",
              "      box-shadow: 0px 1px 2px rgba(60, 64, 67, 0.3), 0px 1px 3px 1px rgba(60, 64, 67, 0.15);\n",
              "      fill: #174EA6;\n",
              "    }\n",
              "\n",
              "    .colab-df-buttons div {\n",
              "      margin-bottom: 4px;\n",
              "    }\n",
              "\n",
              "    [theme=dark] .colab-df-convert {\n",
              "      background-color: #3B4455;\n",
              "      fill: #D2E3FC;\n",
              "    }\n",
              "\n",
              "    [theme=dark] .colab-df-convert:hover {\n",
              "      background-color: #434B5C;\n",
              "      box-shadow: 0px 1px 3px 1px rgba(0, 0, 0, 0.15);\n",
              "      filter: drop-shadow(0px 1px 2px rgba(0, 0, 0, 0.3));\n",
              "      fill: #FFFFFF;\n",
              "    }\n",
              "  </style>\n",
              "\n",
              "    <script>\n",
              "      const buttonEl =\n",
              "        document.querySelector('#df-bb1e4bf2-ee1e-48b2-ba9d-d81e1e3ffb51 button.colab-df-convert');\n",
              "      buttonEl.style.display =\n",
              "        google.colab.kernel.accessAllowed ? 'block' : 'none';\n",
              "\n",
              "      async function convertToInteractive(key) {\n",
              "        const element = document.querySelector('#df-bb1e4bf2-ee1e-48b2-ba9d-d81e1e3ffb51');\n",
              "        const dataTable =\n",
              "          await google.colab.kernel.invokeFunction('convertToInteractive',\n",
              "                                                    [key], {});\n",
              "        if (!dataTable) return;\n",
              "\n",
              "        const docLinkHtml = 'Like what you see? Visit the ' +\n",
              "          '<a target=\"_blank\" href=https://colab.research.google.com/notebooks/data_table.ipynb>data table notebook</a>'\n",
              "          + ' to learn more about interactive tables.';\n",
              "        element.innerHTML = '';\n",
              "        dataTable['output_type'] = 'display_data';\n",
              "        await google.colab.output.renderOutput(dataTable, element);\n",
              "        const docLink = document.createElement('div');\n",
              "        docLink.innerHTML = docLinkHtml;\n",
              "        element.appendChild(docLink);\n",
              "      }\n",
              "    </script>\n",
              "  </div>\n",
              "\n",
              "\n",
              "<div id=\"df-a81c83e9-c941-4da6-a5c3-ddc3e33766b1\">\n",
              "  <button class=\"colab-df-quickchart\" onclick=\"quickchart('df-a81c83e9-c941-4da6-a5c3-ddc3e33766b1')\"\n",
              "            title=\"Suggest charts\"\n",
              "            style=\"display:none;\">\n",
              "\n",
              "<svg xmlns=\"http://www.w3.org/2000/svg\" height=\"24px\"viewBox=\"0 0 24 24\"\n",
              "     width=\"24px\">\n",
              "    <g>\n",
              "        <path d=\"M19 3H5c-1.1 0-2 .9-2 2v14c0 1.1.9 2 2 2h14c1.1 0 2-.9 2-2V5c0-1.1-.9-2-2-2zM9 17H7v-7h2v7zm4 0h-2V7h2v10zm4 0h-2v-4h2v4z\"/>\n",
              "    </g>\n",
              "</svg>\n",
              "  </button>\n",
              "\n",
              "<style>\n",
              "  .colab-df-quickchart {\n",
              "      --bg-color: #E8F0FE;\n",
              "      --fill-color: #1967D2;\n",
              "      --hover-bg-color: #E2EBFA;\n",
              "      --hover-fill-color: #174EA6;\n",
              "      --disabled-fill-color: #AAA;\n",
              "      --disabled-bg-color: #DDD;\n",
              "  }\n",
              "\n",
              "  [theme=dark] .colab-df-quickchart {\n",
              "      --bg-color: #3B4455;\n",
              "      --fill-color: #D2E3FC;\n",
              "      --hover-bg-color: #434B5C;\n",
              "      --hover-fill-color: #FFFFFF;\n",
              "      --disabled-bg-color: #3B4455;\n",
              "      --disabled-fill-color: #666;\n",
              "  }\n",
              "\n",
              "  .colab-df-quickchart {\n",
              "    background-color: var(--bg-color);\n",
              "    border: none;\n",
              "    border-radius: 50%;\n",
              "    cursor: pointer;\n",
              "    display: none;\n",
              "    fill: var(--fill-color);\n",
              "    height: 32px;\n",
              "    padding: 0;\n",
              "    width: 32px;\n",
              "  }\n",
              "\n",
              "  .colab-df-quickchart:hover {\n",
              "    background-color: var(--hover-bg-color);\n",
              "    box-shadow: 0 1px 2px rgba(60, 64, 67, 0.3), 0 1px 3px 1px rgba(60, 64, 67, 0.15);\n",
              "    fill: var(--button-hover-fill-color);\n",
              "  }\n",
              "\n",
              "  .colab-df-quickchart-complete:disabled,\n",
              "  .colab-df-quickchart-complete:disabled:hover {\n",
              "    background-color: var(--disabled-bg-color);\n",
              "    fill: var(--disabled-fill-color);\n",
              "    box-shadow: none;\n",
              "  }\n",
              "\n",
              "  .colab-df-spinner {\n",
              "    border: 2px solid var(--fill-color);\n",
              "    border-color: transparent;\n",
              "    border-bottom-color: var(--fill-color);\n",
              "    animation:\n",
              "      spin 1s steps(1) infinite;\n",
              "  }\n",
              "\n",
              "  @keyframes spin {\n",
              "    0% {\n",
              "      border-color: transparent;\n",
              "      border-bottom-color: var(--fill-color);\n",
              "      border-left-color: var(--fill-color);\n",
              "    }\n",
              "    20% {\n",
              "      border-color: transparent;\n",
              "      border-left-color: var(--fill-color);\n",
              "      border-top-color: var(--fill-color);\n",
              "    }\n",
              "    30% {\n",
              "      border-color: transparent;\n",
              "      border-left-color: var(--fill-color);\n",
              "      border-top-color: var(--fill-color);\n",
              "      border-right-color: var(--fill-color);\n",
              "    }\n",
              "    40% {\n",
              "      border-color: transparent;\n",
              "      border-right-color: var(--fill-color);\n",
              "      border-top-color: var(--fill-color);\n",
              "    }\n",
              "    60% {\n",
              "      border-color: transparent;\n",
              "      border-right-color: var(--fill-color);\n",
              "    }\n",
              "    80% {\n",
              "      border-color: transparent;\n",
              "      border-right-color: var(--fill-color);\n",
              "      border-bottom-color: var(--fill-color);\n",
              "    }\n",
              "    90% {\n",
              "      border-color: transparent;\n",
              "      border-bottom-color: var(--fill-color);\n",
              "    }\n",
              "  }\n",
              "</style>\n",
              "\n",
              "  <script>\n",
              "    async function quickchart(key) {\n",
              "      const quickchartButtonEl =\n",
              "        document.querySelector('#' + key + ' button');\n",
              "      quickchartButtonEl.disabled = true;  // To prevent multiple clicks.\n",
              "      quickchartButtonEl.classList.add('colab-df-spinner');\n",
              "      try {\n",
              "        const charts = await google.colab.kernel.invokeFunction(\n",
              "            'suggestCharts', [key], {});\n",
              "      } catch (error) {\n",
              "        console.error('Error during call to suggestCharts:', error);\n",
              "      }\n",
              "      quickchartButtonEl.classList.remove('colab-df-spinner');\n",
              "      quickchartButtonEl.classList.add('colab-df-quickchart-complete');\n",
              "    }\n",
              "    (() => {\n",
              "      let quickchartButtonEl =\n",
              "        document.querySelector('#df-a81c83e9-c941-4da6-a5c3-ddc3e33766b1 button');\n",
              "      quickchartButtonEl.style.display =\n",
              "        google.colab.kernel.accessAllowed ? 'block' : 'none';\n",
              "    })();\n",
              "  </script>\n",
              "</div>\n",
              "    </div>\n",
              "  </div>\n"
            ],
            "application/vnd.google.colaboratory.intrinsic+json": {
              "type": "dataframe",
              "variable_name": "df",
              "summary": "{\n  \"name\": \"df\",\n  \"rows\": 10000,\n  \"fields\": [\n    {\n      \"column\": \"label\",\n      \"properties\": {\n        \"dtype\": \"category\",\n        \"num_unique_values\": 2,\n        \"samples\": [\n          \"neg\",\n          \"pos\"\n        ],\n        \"semantic_type\": \"\",\n        \"description\": \"\"\n      }\n    },\n    {\n      \"column\": \"review\",\n      \"properties\": {\n        \"dtype\": \"string\",\n        \"num_unique_values\": 10000,\n        \"samples\": [\n          \"I Know I'm in the Minority Here, But...: I'm so sorry to be such a spoilsport, but I found this is a terrible book and a worse series. Leaving aside all the wild inaccuracies - one of the main ones being Auel's portrayal of Neandertals as doltish brutes -the heroine is constantly making one earthshaking discovery after another - shampoo, domestication of animals, law of genetics, sex=pregnancy, and, last but not least, tampax. No one else can figure anything out, but there she is, churning out one Nobel-Laureate discovery after another. I'm sure in one of the later books she will be found making a short-wave radio out of a large rock. It became really maddening.\",\n          \"Disappointing: This is the 4th Clavell book I've read, I was more than a little disappointed. I've read them in order so far, Shogun and Tai-pan for me were breathtaking, long books which I sped through. Gai-jin was more of a chore, with not much of ending. I found King Rat dull, I think the story wasn't too interesting. Other customers have commented on how harsh the prison was - too be honest, I thought it would've been worse. The King had none of the charisma of the heroes in the other books, and I found myself not really caring whether or not either him or Marlowe made it. Although a lot was made of their inner feelings, this made me feel that they were both just shallow people.\"\n        ],\n        \"semantic_type\": \"\",\n        \"description\": \"\"\n      }\n    }\n  ]\n}"
            }
          },
          "metadata": {},
          "execution_count": 57
        }
      ],
      "source": [
        "# Importa los datos\n",
        "df = pd.read_csv('/content/drive/MyDrive/data_saturdays/amazonreviews.tsv', sep='\\t')\n",
        "df.head()"
      ]
    },
    {
      "cell_type": "markdown",
      "id": "357a96ec-0d23-4bca-99b0-e6534e7ca2a2",
      "metadata": {
        "id": "357a96ec-0d23-4bca-99b0-e6534e7ca2a2"
      },
      "source": [
        "**Haz un conteo de las etiquetas de cada tipo.**"
      ]
    },
    {
      "cell_type": "code",
      "execution_count": null,
      "id": "c2ece28c-46e8-47a8-a6c6-63e0b5f992b5",
      "metadata": {
        "id": "c2ece28c-46e8-47a8-a6c6-63e0b5f992b5",
        "outputId": "8080edbe-4646-462b-e382-4347981e9c0d",
        "colab": {
          "base_uri": "https://localhost:8080/"
        }
      },
      "outputs": [
        {
          "output_type": "execute_result",
          "data": {
            "text/plain": [
              "label\n",
              "neg    5097\n",
              "pos    4903\n",
              "Name: count, dtype: int64"
            ]
          },
          "metadata": {},
          "execution_count": 58
        }
      ],
      "source": [
        "df['label'].value_counts()"
      ]
    },
    {
      "cell_type": "markdown",
      "id": "eebfef1e-5c07-42b3-9456-781636f20433",
      "metadata": {
        "id": "eebfef1e-5c07-42b3-9456-781636f20433"
      },
      "source": [
        "**Crea una variable `X` que contenga las reseñas y otra `y` que contenga las etiquetas.**"
      ]
    },
    {
      "cell_type": "code",
      "execution_count": null,
      "id": "c4a83d5b-818c-4f6c-af07-a75f9705f694",
      "metadata": {
        "id": "c4a83d5b-818c-4f6c-af07-a75f9705f694"
      },
      "outputs": [],
      "source": [
        "X = df['review']\n",
        "y = df['label']"
      ]
    },
    {
      "cell_type": "markdown",
      "id": "f826f559-a21d-4bd7-9d43-379046fb0e86",
      "metadata": {
        "id": "f826f559-a21d-4bd7-9d43-379046fb0e86"
      },
      "source": [
        "**Divide el dataset en un conjunto de entrenamiento (70%) y otro de prueba (30%).**"
      ]
    },
    {
      "cell_type": "code",
      "execution_count": null,
      "id": "eb2a5afa-8f11-4b8d-9e7b-23ff4b51ff2b",
      "metadata": {
        "id": "eb2a5afa-8f11-4b8d-9e7b-23ff4b51ff2b"
      },
      "outputs": [],
      "source": [
        "# Importa las librerías necesarias para hacer el entrenamiento del modelo\n",
        "from sklearn.model_selection import train_test_split"
      ]
    },
    {
      "cell_type": "code",
      "execution_count": null,
      "id": "8c6f5efc-4962-488d-bac1-33871de8be13",
      "metadata": {
        "id": "8c6f5efc-4962-488d-bac1-33871de8be13"
      },
      "outputs": [],
      "source": [
        "# Divide el conjunto de datos\n",
        "X_train, X_test, y_train, y_test = train_test_split(X,\n",
        "                                                    y,\n",
        "                                                    test_size=0.33,\n",
        "                                                    random_state=42)"
      ]
    },
    {
      "cell_type": "markdown",
      "id": "306e886b-12d6-4796-80f7-f19b56a35841",
      "metadata": {
        "id": "306e886b-12d6-4796-80f7-f19b56a35841"
      },
      "source": [
        "**Construye la matriz de términos del conjunto de datos de entrenamiento usando `CountVectorizer` para obtener las bolsas de palabras de las reseñas. Muestra las dimensiones de la matriz de términos.**"
      ]
    },
    {
      "cell_type": "code",
      "execution_count": null,
      "id": "8ad92c05-077d-43c7-a0c2-ae8213ffe56c",
      "metadata": {
        "id": "8ad92c05-077d-43c7-a0c2-ae8213ffe56c"
      },
      "outputs": [],
      "source": [
        "# Importa las librerías\n",
        "# importamos de sklearn el método CounVectorizer() para construir matrices\n",
        "from sklearn.feature_extraction.text import CountVectorizer"
      ]
    },
    {
      "cell_type": "code",
      "execution_count": null,
      "id": "221ca8cf-455f-4bc9-8750-43b5177ea7d6",
      "metadata": {
        "id": "221ca8cf-455f-4bc9-8750-43b5177ea7d6",
        "outputId": "26020585-eea7-4b88-92b1-2948db2b4c11",
        "colab": {
          "base_uri": "https://localhost:8080/"
        }
      },
      "outputs": [
        {
          "output_type": "execute_result",
          "data": {
            "text/plain": [
              "(6700, 25820)"
            ]
          },
          "metadata": {},
          "execution_count": 65
        }
      ],
      "source": [
        "# Instancia la clase CountVectorizer\n",
        "count_vect = CountVectorizer()\n",
        "# Obtén la matriz de términos\n",
        "X_train_counts = count_vect.fit_transform(X_train)\n",
        "# Muestra sus dimensiones\n",
        "X_train_counts.shape"
      ]
    },
    {
      "cell_type": "markdown",
      "id": "a3bbd6f8-6100-4f54-a066-55b1946ad5c4",
      "metadata": {
        "id": "a3bbd6f8-6100-4f54-a066-55b1946ad5c4"
      },
      "source": [
        "**Ahora que tenemos los conteos de palabras de nuestros datos de entrenamiento, genera una nueva matriz de términos con los valores TD-IDF correspondientes. Muestra también sus dimensiones para comprobar que son correctas.**"
      ]
    },
    {
      "cell_type": "code",
      "execution_count": null,
      "id": "abfdba58-adf6-4a3b-93c7-8225c375550e",
      "metadata": {
        "id": "abfdba58-adf6-4a3b-93c7-8225c375550e"
      },
      "outputs": [],
      "source": [
        "# Importa las librerías\n",
        "from sklearn.feature_extraction.text import TfidfTransformer"
      ]
    },
    {
      "cell_type": "code",
      "execution_count": null,
      "metadata": {
        "id": "qwPOlTicmft5"
      },
      "outputs": [],
      "source": [
        "# Importa las librerías\n",
        "# importamos de sklearn el método CounVectorizer() para construir matrices\n",
        "from sklearn.feature_extraction.text import CountVectorizer"
      ],
      "id": "qwPOlTicmft5"
    },
    {
      "cell_type": "code",
      "execution_count": null,
      "id": "4c0f8b65-f2a3-49c8-9f4c-c8db923bc831",
      "metadata": {
        "id": "4c0f8b65-f2a3-49c8-9f4c-c8db923bc831",
        "outputId": "cd73b82c-88bb-4d80-cda3-27d006495376",
        "colab": {
          "base_uri": "https://localhost:8080/"
        }
      },
      "outputs": [
        {
          "output_type": "execute_result",
          "data": {
            "text/plain": [
              "(6700, 25820)"
            ]
          },
          "metadata": {},
          "execution_count": 79
        }
      ],
      "source": [
        "# Instancia la clase TfidfTransformer\n",
        "tfid_transformer = TfidfTransformer()\n",
        "# Obtén la matriz de términos\n",
        "X_train_tfidf = tfid_transformer.fit_transform(X_train_counts)\n",
        "# Muestra sus dimensiones\n",
        "X_train_tfidf.shape"
      ]
    },
    {
      "cell_type": "markdown",
      "id": "4fd7fa45-28ef-420d-8e06-691dbb130cab",
      "metadata": {
        "id": "4fd7fa45-28ef-420d-8e06-691dbb130cab"
      },
      "source": [
        "**Convierte la matriz dispersa que has generado en un DataFrame.**"
      ]
    },
    {
      "cell_type": "code",
      "execution_count": null,
      "id": "abc4f3d0-c02f-4949-b30f-bc9fab26e8a9",
      "metadata": {
        "id": "abc4f3d0-c02f-4949-b30f-bc9fab26e8a9"
      },
      "outputs": [],
      "source": [
        "df_tfidf = pd.DataFrame.sparse.from_spmatrix(X_train_tfidf)"
      ]
    },
    {
      "cell_type": "markdown",
      "id": "283970b2-ba12-40eb-b750-48bf1cd63ea3",
      "metadata": {
        "id": "283970b2-ba12-40eb-b750-48bf1cd63ea3"
      },
      "source": [
        "**Selecciona la review de índice 2500 del conjunto de entrenamiento.**"
      ]
    },
    {
      "cell_type": "code",
      "execution_count": null,
      "id": "9ce6ef82-2621-4ce5-86bf-d5fc4c5d4b93",
      "metadata": {
        "id": "9ce6ef82-2621-4ce5-86bf-d5fc4c5d4b93",
        "outputId": "57bf463f-94f7-485e-9269-f62ce4b01e87",
        "colab": {
          "base_uri": "https://localhost:8080/"
        }
      },
      "outputs": [
        {
          "output_type": "stream",
          "name": "stdout",
          "text": [
            "A great collection of songs on this karaoke disc: 1. The Winner Takes It All - ABBA2. Dancing Queen - ABBA3. Waterloo - ABBA4. Take A Chance On Me - ABBA5. Fernando - ABBA6. I Do, I Do, I Do, I Do, I Do - ABBA7. Gimme Gimme Gimme - ABBA8. Does Your Mother Know - ABBA9. I Have A Dream - ABBA10. Knowing Me, Knowing You - ABBA11. Chiquita - ABBA12. The Name Of The Game - ABBA13. SOS - ABBA14. Thank You For The Music - ABBA\n"
          ]
        }
      ],
      "source": [
        "review_2500=X_train[2500]\n",
        "print(review_2500)"
      ]
    },
    {
      "cell_type": "markdown",
      "id": "fc88612c-5b15-4a3f-80ef-2ec8d1ddf296",
      "metadata": {
        "id": "fc88612c-5b15-4a3f-80ef-2ec8d1ddf296"
      },
      "source": [
        "**Comprueba que efectivamente tenemos la puntuación TD-IDF para algunos de los términos que la componen.**"
      ]
    },
    {
      "cell_type": "code",
      "execution_count": null,
      "id": "51b76125-f6a3-4b91-9b80-ffb766ab895f",
      "metadata": {
        "id": "51b76125-f6a3-4b91-9b80-ffb766ab895f",
        "outputId": "9db3cd79-0981-4b86-a5cb-e03cf0b25ce3"
      },
      "outputs": [
        {
          "data": {
            "text/plain": [
              "0.12485404614304174"
            ]
          },
          "execution_count": 62,
          "metadata": {},
          "output_type": "execute_result"
        }
      ],
      "source": [
        "# Ejemplo 1\n"
      ]
    },
    {
      "cell_type": "code",
      "execution_count": null,
      "id": "536956b7-015c-40b3-a00f-ae90b5f7691a",
      "metadata": {
        "id": "536956b7-015c-40b3-a00f-ae90b5f7691a",
        "outputId": "955a95d2-9f4e-4fc6-86e6-c63691df2b36"
      },
      "outputs": [
        {
          "data": {
            "text/plain": [
              "0.08139515339077955"
            ]
          },
          "execution_count": 63,
          "metadata": {},
          "output_type": "execute_result"
        }
      ],
      "source": [
        "# Ejemplo 2\n"
      ]
    },
    {
      "cell_type": "markdown",
      "id": "6cb26a43-2f17-4095-b3bc-aa230a090e1f",
      "metadata": {
        "id": "6cb26a43-2f17-4095-b3bc-aa230a090e1f"
      },
      "source": [
        "**Selecciona los términos para esa reseña con los valores de TD-IDF máximo y mínimo (diferente de cero). Pista: investiga las funciones `idxmax()` e `idxmin()`.**"
      ]
    },
    {
      "cell_type": "code",
      "execution_count": null,
      "id": "4fe343cf-1b92-490d-a7e3-05cc0d9445f0",
      "metadata": {
        "id": "4fe343cf-1b92-490d-a7e3-05cc0d9445f0",
        "outputId": "b7fce43c-558a-4fb0-ef6e-abd7f4c94db9"
      },
      "outputs": [
        {
          "data": {
            "text/plain": [
              "'rf'"
            ]
          },
          "execution_count": 64,
          "metadata": {},
          "output_type": "execute_result"
        }
      ],
      "source": [
        "# Término con el máximo TD-IDF\n"
      ]
    },
    {
      "cell_type": "code",
      "execution_count": null,
      "id": "65581d00-da98-424f-9b83-78eae8787e43",
      "metadata": {
        "id": "65581d00-da98-424f-9b83-78eae8787e43",
        "outputId": "ddacd595-f4fe-4c8a-c6ff-ffd930292de7"
      },
      "outputs": [
        {
          "data": {
            "text/plain": [
              "'was'"
            ]
          },
          "execution_count": 65,
          "metadata": {},
          "output_type": "execute_result"
        }
      ],
      "source": [
        "# Término con el mínimo TD-IDF (diferente de cero)\n"
      ]
    },
    {
      "cell_type": "markdown",
      "id": "a6bd7137-5ce4-43e4-b2b3-e5b80da4a483",
      "metadata": {
        "id": "a6bd7137-5ce4-43e4-b2b3-e5b80da4a483"
      },
      "source": [
        "**Entrena un clasificador `LinearSVC` usando los datos de entrenamiento.**"
      ]
    },
    {
      "cell_type": "code",
      "execution_count": null,
      "id": "5473c514-f29f-4959-b903-028bbe850301",
      "metadata": {
        "id": "5473c514-f29f-4959-b903-028bbe850301"
      },
      "outputs": [],
      "source": [
        "# Importa las librerías\n"
      ]
    },
    {
      "cell_type": "code",
      "execution_count": null,
      "id": "07292f93-d387-4df9-ad18-436469cc70c2",
      "metadata": {
        "id": "07292f93-d387-4df9-ad18-436469cc70c2",
        "outputId": "1b3c8dec-f3fc-4a64-8088-7f10c1fb6f8d"
      },
      "outputs": [
        {
          "data": {
            "text/plain": [
              "LinearSVC()"
            ]
          },
          "execution_count": 67,
          "metadata": {},
          "output_type": "execute_result"
        }
      ],
      "source": [
        "# Instancia el clasificador\n",
        "\n",
        "# Entrena el clasificador\n"
      ]
    },
    {
      "cell_type": "markdown",
      "id": "c2bc1a9f-60cb-4361-b7af-65beb79a23c6",
      "metadata": {
        "id": "c2bc1a9f-60cb-4361-b7af-65beb79a23c6"
      },
      "source": [
        "**Realiza las predicciones usando los datos de prueba. Recuerda que primero deberás obtener la matriz de términos con las puntuaciones TD-IDF para el conjunto de entrenamiento.**"
      ]
    },
    {
      "cell_type": "code",
      "execution_count": null,
      "id": "d3255b43-9b38-4d56-adad-89a94e6a977b",
      "metadata": {
        "id": "d3255b43-9b38-4d56-adad-89a94e6a977b"
      },
      "outputs": [],
      "source": [
        "# Obtén la matriz de términos (2 pasos)\n"
      ]
    },
    {
      "cell_type": "code",
      "execution_count": null,
      "id": "56f02cbb-ac20-4a8e-a270-c08aabbc3d49",
      "metadata": {
        "id": "56f02cbb-ac20-4a8e-a270-c08aabbc3d49"
      },
      "outputs": [],
      "source": [
        "# Realiza las predicciones\n"
      ]
    },
    {
      "cell_type": "markdown",
      "id": "313815ce-d639-407e-b677-d9242c3b267d",
      "metadata": {
        "id": "313815ce-d639-407e-b677-d9242c3b267d"
      },
      "source": [
        "**Muestra la matriz de confusión y el informe de clasificación.**"
      ]
    },
    {
      "cell_type": "code",
      "execution_count": null,
      "id": "69ec2aa0-cc96-4fe5-aca2-a409428a08d2",
      "metadata": {
        "id": "69ec2aa0-cc96-4fe5-aca2-a409428a08d2"
      },
      "outputs": [],
      "source": [
        "# Importa las librerías\n"
      ]
    },
    {
      "cell_type": "code",
      "execution_count": null,
      "id": "9049c00f-07ad-4a2e-90ed-cda35c6b445b",
      "metadata": {
        "id": "9049c00f-07ad-4a2e-90ed-cda35c6b445b",
        "outputId": "31cd0052-9334-40eb-a912-359f3bb58677"
      },
      "outputs": [
        {
          "data": {
            "image/png": "[encoded data removed]",
            "text/plain": [
              "<Figure size 576x432 with 2 Axes>"
            ]
          },
          "metadata": {
            "needs_background": "light"
          },
          "output_type": "display_data"
        }
      ],
      "source": [
        "# Mostramos la matriz de confusión\n"
      ]
    },
    {
      "cell_type": "code",
      "execution_count": null,
      "id": "31dbea4f-dd7a-4a15-ba7e-3708d3e0564d",
      "metadata": {
        "id": "31dbea4f-dd7a-4a15-ba7e-3708d3e0564d",
        "outputId": "80917908-1bbb-4c62-e781-c4d4dd3ba88d"
      },
      "outputs": [
        {
          "name": "stdout",
          "output_type": "stream",
          "text": [
            "              precision    recall  f1-score   support\n",
            "\n",
            "         neg       0.87      0.89      0.88      1518\n",
            "         pos       0.89      0.86      0.87      1482\n",
            "\n",
            "    accuracy                           0.88      3000\n",
            "   macro avg       0.88      0.87      0.87      3000\n",
            "weighted avg       0.88      0.88      0.87      3000\n",
            "\n"
          ]
        }
      ],
      "source": [
        "# Imprime el informe de clasificación\n"
      ]
    },
    {
      "cell_type": "code",
      "execution_count": null,
      "id": "22a9eb4c-5eb9-40f9-b78b-e54961b67394",
      "metadata": {
        "id": "22a9eb4c-5eb9-40f9-b78b-e54961b67394"
      },
      "outputs": [],
      "source": []
    }
  ],
  "metadata": {
    "kernelspec": {
      "display_name": "ai_env",
      "language": "python",
      "name": "ai_env"
    },
    "language_info": {
      "codemirror_mode": {
        "name": "ipython",
        "version": 3
      },
      "file_extension": ".py",
      "mimetype": "text/x-python",
      "name": "python",
      "nbconvert_exporter": "python",
      "pygments_lexer": "ipython3",
      "version": "3.9.6"
    },
    "colab": {
      "provenance": [],
      "toc_visible": true,
      "include_colab_link": true
    }
  },
  "nbformat": 4,
  "nbformat_minor": 5
}